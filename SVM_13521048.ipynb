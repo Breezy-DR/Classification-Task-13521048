{
  "nbformat": 4,
  "nbformat_minor": 0,
  "metadata": {
    "colab": {
      "provenance": []
    },
    "kernelspec": {
      "name": "python3",
      "display_name": "Python 3"
    },
    "language_info": {
      "name": "python"
    }
  },
  "cells": [
    {
      "cell_type": "markdown",
      "source": [
        "# Import Libraries"
      ],
      "metadata": {
        "id": "TpzxnIlER2r3"
      }
    },
    {
      "cell_type": "code",
      "execution_count": 269,
      "metadata": {
        "id": "lBf9XtLOPtDF",
        "colab": {
          "base_uri": "https://localhost:8080/"
        },
        "outputId": "7d240766-41a5-4ef7-d92e-b28736bd6f0c"
      },
      "outputs": [
        {
          "output_type": "stream",
          "name": "stderr",
          "text": [
            "[nltk_data] Downloading package stopwords to /root/nltk_data...\n",
            "[nltk_data]   Package stopwords is already up-to-date!\n",
            "[nltk_data] Downloading package wordnet to /root/nltk_data...\n",
            "[nltk_data]   Package wordnet is already up-to-date!\n",
            "[nltk_data] Downloading package punkt to /root/nltk_data...\n",
            "[nltk_data]   Package punkt is already up-to-date!\n"
          ]
        },
        {
          "output_type": "execute_result",
          "data": {
            "text/plain": [
              "True"
            ]
          },
          "metadata": {},
          "execution_count": 269
        }
      ],
      "source": [
        "import pandas as pd\n",
        "import numpy as np\n",
        "from sklearn.feature_extraction.text import CountVectorizer\n",
        "from sklearn.model_selection import GridSearchCV\n",
        "from nltk.tokenize import word_tokenize\n",
        "from nltk.corpus import stopwords\n",
        "from sklearn.svm import SVC\n",
        "from sklearn.metrics import accuracy_score, precision_score, recall_score, f1_score, classification_report\n",
        "import re\n",
        "import matplotlib.pyplot as plt\n",
        "import warnings\n",
        "import string\n",
        "warnings.filterwarnings(\"ignore\", category=FutureWarning)\n",
        "import nltk\n",
        "nltk.download('stopwords')\n",
        "nltk.download('wordnet')\n",
        "nltk.download('punkt')"
      ]
    },
    {
      "cell_type": "markdown",
      "source": [
        "# Import The Dataset"
      ],
      "metadata": {
        "id": "wyi6MSOKSEeQ"
      }
    },
    {
      "cell_type": "markdown",
      "source": [
        "The data processed contains the the training data, validation data, and test data (with unmasked and masked label) that has been preprocessed. However, later on, we will further preprocess the code to increase the accuracy."
      ],
      "metadata": {
        "id": "OuiWGCp9SKwQ"
      }
    },
    {
      "cell_type": "code",
      "source": [
        "from google.colab import drive\n",
        "drive.mount('/content/drive')"
      ],
      "metadata": {
        "colab": {
          "base_uri": "https://localhost:8080/"
        },
        "id": "y2A_ZtN5S5u_",
        "outputId": "b5f28574-499b-406f-b20b-e0adc5d2e14b"
      },
      "execution_count": 270,
      "outputs": [
        {
          "output_type": "stream",
          "name": "stdout",
          "text": [
            "Drive already mounted at /content/drive; to attempt to forcibly remount, call drive.mount(\"/content/drive\", force_remount=True).\n"
          ]
        }
      ]
    },
    {
      "cell_type": "code",
      "source": [
        "df_train = pd.read_csv(\"drive/MyDrive/sentiment-prosa/train_preprocess.tsv\", sep='\\t', header=None)\n",
        "df_valid = pd.read_csv(\"drive/MyDrive/sentiment-prosa/valid_preprocess.tsv\", sep='\\t', header=None)\n",
        "df_test_unmasked = pd.read_csv(\"drive/MyDrive/sentiment-prosa/test_preprocess.tsv\", sep='\\t', header=None)\n",
        "df_test_masked = pd.read_csv(\"drive/MyDrive/sentiment-prosa/test_preprocess_masked_label.tsv\", sep='\\t', header=None)"
      ],
      "metadata": {
        "id": "WSeQ8j9DbVE6"
      },
      "execution_count": 271,
      "outputs": []
    },
    {
      "cell_type": "markdown",
      "source": [
        "Open the vocabulary document"
      ],
      "metadata": {
        "id": "6i4jcKM5xRUT"
      }
    },
    {
      "cell_type": "code",
      "source": [
        "with open('drive/MyDrive/sentiment-prosa/vocab_uncased.txt', 'r') as f:\n",
        "    vocab = f.read().splitlines()"
      ],
      "metadata": {
        "id": "uAUJPijtxU-w"
      },
      "execution_count": 272,
      "outputs": []
    },
    {
      "cell_type": "code",
      "source": [
        "df_train.columns = [\"text\", \"emotion\"]\n",
        "df_valid.columns = [\"text\", \"emotion\"]\n",
        "df_test_unmasked.columns = [\"text\", \"emotion\"]\n",
        "df_test_masked.columns = [\"text\", \"emotion\"]\n",
        "\n",
        "df_train.head(10)"
      ],
      "metadata": {
        "colab": {
          "base_uri": "https://localhost:8080/",
          "height": 363
        },
        "collapsed": true,
        "id": "hDc2N0XJb-3-",
        "outputId": "49d00d53-ed88-49ef-8a15-034576f7ab48"
      },
      "execution_count": 273,
      "outputs": [
        {
          "output_type": "execute_result",
          "data": {
            "text/plain": [
              "                                                text   emotion\n",
              "0  warung ini dimiliki oleh pengusaha pabrik tahu...  positive\n",
              "1  mohon ulama lurus dan k212 mmbri hujjah partai...   neutral\n",
              "2  lokasi strategis di jalan sumatera bandung . t...  positive\n",
              "3  betapa bahagia nya diri ini saat unboxing pake...  positive\n",
              "4  duh . jadi mahasiswa jangan sombong dong . kas...  negative\n",
              "5  makanan beragam , harga makanan di food stall ...  positive\n",
              "6  pakai kartu kredit bca tidak untung malah rugi...  negative\n",
              "7  tempat unik , bagus buat foto , makanan enak ,...  positive\n",
              "8  saya bersama keluarga baru saja menikmati peng...  positive\n",
              "9                                          bersyukur  positive"
            ],
            "text/html": [
              "\n",
              "  <div id=\"df-b3636f9c-f298-4b28-b305-bf03c6059268\" class=\"colab-df-container\">\n",
              "    <div>\n",
              "<style scoped>\n",
              "    .dataframe tbody tr th:only-of-type {\n",
              "        vertical-align: middle;\n",
              "    }\n",
              "\n",
              "    .dataframe tbody tr th {\n",
              "        vertical-align: top;\n",
              "    }\n",
              "\n",
              "    .dataframe thead th {\n",
              "        text-align: right;\n",
              "    }\n",
              "</style>\n",
              "<table border=\"1\" class=\"dataframe\">\n",
              "  <thead>\n",
              "    <tr style=\"text-align: right;\">\n",
              "      <th></th>\n",
              "      <th>text</th>\n",
              "      <th>emotion</th>\n",
              "    </tr>\n",
              "  </thead>\n",
              "  <tbody>\n",
              "    <tr>\n",
              "      <th>0</th>\n",
              "      <td>warung ini dimiliki oleh pengusaha pabrik tahu...</td>\n",
              "      <td>positive</td>\n",
              "    </tr>\n",
              "    <tr>\n",
              "      <th>1</th>\n",
              "      <td>mohon ulama lurus dan k212 mmbri hujjah partai...</td>\n",
              "      <td>neutral</td>\n",
              "    </tr>\n",
              "    <tr>\n",
              "      <th>2</th>\n",
              "      <td>lokasi strategis di jalan sumatera bandung . t...</td>\n",
              "      <td>positive</td>\n",
              "    </tr>\n",
              "    <tr>\n",
              "      <th>3</th>\n",
              "      <td>betapa bahagia nya diri ini saat unboxing pake...</td>\n",
              "      <td>positive</td>\n",
              "    </tr>\n",
              "    <tr>\n",
              "      <th>4</th>\n",
              "      <td>duh . jadi mahasiswa jangan sombong dong . kas...</td>\n",
              "      <td>negative</td>\n",
              "    </tr>\n",
              "    <tr>\n",
              "      <th>5</th>\n",
              "      <td>makanan beragam , harga makanan di food stall ...</td>\n",
              "      <td>positive</td>\n",
              "    </tr>\n",
              "    <tr>\n",
              "      <th>6</th>\n",
              "      <td>pakai kartu kredit bca tidak untung malah rugi...</td>\n",
              "      <td>negative</td>\n",
              "    </tr>\n",
              "    <tr>\n",
              "      <th>7</th>\n",
              "      <td>tempat unik , bagus buat foto , makanan enak ,...</td>\n",
              "      <td>positive</td>\n",
              "    </tr>\n",
              "    <tr>\n",
              "      <th>8</th>\n",
              "      <td>saya bersama keluarga baru saja menikmati peng...</td>\n",
              "      <td>positive</td>\n",
              "    </tr>\n",
              "    <tr>\n",
              "      <th>9</th>\n",
              "      <td>bersyukur</td>\n",
              "      <td>positive</td>\n",
              "    </tr>\n",
              "  </tbody>\n",
              "</table>\n",
              "</div>\n",
              "    <div class=\"colab-df-buttons\">\n",
              "\n",
              "  <div class=\"colab-df-container\">\n",
              "    <button class=\"colab-df-convert\" onclick=\"convertToInteractive('df-b3636f9c-f298-4b28-b305-bf03c6059268')\"\n",
              "            title=\"Convert this dataframe to an interactive table.\"\n",
              "            style=\"display:none;\">\n",
              "\n",
              "  <svg xmlns=\"http://www.w3.org/2000/svg\" height=\"24px\" viewBox=\"0 -960 960 960\">\n",
              "    <path d=\"M120-120v-720h720v720H120Zm60-500h600v-160H180v160Zm220 220h160v-160H400v160Zm0 220h160v-160H400v160ZM180-400h160v-160H180v160Zm440 0h160v-160H620v160ZM180-180h160v-160H180v160Zm440 0h160v-160H620v160Z\"/>\n",
              "  </svg>\n",
              "    </button>\n",
              "\n",
              "  <style>\n",
              "    .colab-df-container {\n",
              "      display:flex;\n",
              "      gap: 12px;\n",
              "    }\n",
              "\n",
              "    .colab-df-convert {\n",
              "      background-color: #E8F0FE;\n",
              "      border: none;\n",
              "      border-radius: 50%;\n",
              "      cursor: pointer;\n",
              "      display: none;\n",
              "      fill: #1967D2;\n",
              "      height: 32px;\n",
              "      padding: 0 0 0 0;\n",
              "      width: 32px;\n",
              "    }\n",
              "\n",
              "    .colab-df-convert:hover {\n",
              "      background-color: #E2EBFA;\n",
              "      box-shadow: 0px 1px 2px rgba(60, 64, 67, 0.3), 0px 1px 3px 1px rgba(60, 64, 67, 0.15);\n",
              "      fill: #174EA6;\n",
              "    }\n",
              "\n",
              "    .colab-df-buttons div {\n",
              "      margin-bottom: 4px;\n",
              "    }\n",
              "\n",
              "    [theme=dark] .colab-df-convert {\n",
              "      background-color: #3B4455;\n",
              "      fill: #D2E3FC;\n",
              "    }\n",
              "\n",
              "    [theme=dark] .colab-df-convert:hover {\n",
              "      background-color: #434B5C;\n",
              "      box-shadow: 0px 1px 3px 1px rgba(0, 0, 0, 0.15);\n",
              "      filter: drop-shadow(0px 1px 2px rgba(0, 0, 0, 0.3));\n",
              "      fill: #FFFFFF;\n",
              "    }\n",
              "  </style>\n",
              "\n",
              "    <script>\n",
              "      const buttonEl =\n",
              "        document.querySelector('#df-b3636f9c-f298-4b28-b305-bf03c6059268 button.colab-df-convert');\n",
              "      buttonEl.style.display =\n",
              "        google.colab.kernel.accessAllowed ? 'block' : 'none';\n",
              "\n",
              "      async function convertToInteractive(key) {\n",
              "        const element = document.querySelector('#df-b3636f9c-f298-4b28-b305-bf03c6059268');\n",
              "        const dataTable =\n",
              "          await google.colab.kernel.invokeFunction('convertToInteractive',\n",
              "                                                    [key], {});\n",
              "        if (!dataTable) return;\n",
              "\n",
              "        const docLinkHtml = 'Like what you see? Visit the ' +\n",
              "          '<a target=\"_blank\" href=https://colab.research.google.com/notebooks/data_table.ipynb>data table notebook</a>'\n",
              "          + ' to learn more about interactive tables.';\n",
              "        element.innerHTML = '';\n",
              "        dataTable['output_type'] = 'display_data';\n",
              "        await google.colab.output.renderOutput(dataTable, element);\n",
              "        const docLink = document.createElement('div');\n",
              "        docLink.innerHTML = docLinkHtml;\n",
              "        element.appendChild(docLink);\n",
              "      }\n",
              "    </script>\n",
              "  </div>\n",
              "\n",
              "\n",
              "<div id=\"df-f5be0321-77f1-43c0-a58f-48923c014e8e\">\n",
              "  <button class=\"colab-df-quickchart\" onclick=\"quickchart('df-f5be0321-77f1-43c0-a58f-48923c014e8e')\"\n",
              "            title=\"Suggest charts\"\n",
              "            style=\"display:none;\">\n",
              "\n",
              "<svg xmlns=\"http://www.w3.org/2000/svg\" height=\"24px\"viewBox=\"0 0 24 24\"\n",
              "     width=\"24px\">\n",
              "    <g>\n",
              "        <path d=\"M19 3H5c-1.1 0-2 .9-2 2v14c0 1.1.9 2 2 2h14c1.1 0 2-.9 2-2V5c0-1.1-.9-2-2-2zM9 17H7v-7h2v7zm4 0h-2V7h2v10zm4 0h-2v-4h2v4z\"/>\n",
              "    </g>\n",
              "</svg>\n",
              "  </button>\n",
              "\n",
              "<style>\n",
              "  .colab-df-quickchart {\n",
              "      --bg-color: #E8F0FE;\n",
              "      --fill-color: #1967D2;\n",
              "      --hover-bg-color: #E2EBFA;\n",
              "      --hover-fill-color: #174EA6;\n",
              "      --disabled-fill-color: #AAA;\n",
              "      --disabled-bg-color: #DDD;\n",
              "  }\n",
              "\n",
              "  [theme=dark] .colab-df-quickchart {\n",
              "      --bg-color: #3B4455;\n",
              "      --fill-color: #D2E3FC;\n",
              "      --hover-bg-color: #434B5C;\n",
              "      --hover-fill-color: #FFFFFF;\n",
              "      --disabled-bg-color: #3B4455;\n",
              "      --disabled-fill-color: #666;\n",
              "  }\n",
              "\n",
              "  .colab-df-quickchart {\n",
              "    background-color: var(--bg-color);\n",
              "    border: none;\n",
              "    border-radius: 50%;\n",
              "    cursor: pointer;\n",
              "    display: none;\n",
              "    fill: var(--fill-color);\n",
              "    height: 32px;\n",
              "    padding: 0;\n",
              "    width: 32px;\n",
              "  }\n",
              "\n",
              "  .colab-df-quickchart:hover {\n",
              "    background-color: var(--hover-bg-color);\n",
              "    box-shadow: 0 1px 2px rgba(60, 64, 67, 0.3), 0 1px 3px 1px rgba(60, 64, 67, 0.15);\n",
              "    fill: var(--button-hover-fill-color);\n",
              "  }\n",
              "\n",
              "  .colab-df-quickchart-complete:disabled,\n",
              "  .colab-df-quickchart-complete:disabled:hover {\n",
              "    background-color: var(--disabled-bg-color);\n",
              "    fill: var(--disabled-fill-color);\n",
              "    box-shadow: none;\n",
              "  }\n",
              "\n",
              "  .colab-df-spinner {\n",
              "    border: 2px solid var(--fill-color);\n",
              "    border-color: transparent;\n",
              "    border-bottom-color: var(--fill-color);\n",
              "    animation:\n",
              "      spin 1s steps(1) infinite;\n",
              "  }\n",
              "\n",
              "  @keyframes spin {\n",
              "    0% {\n",
              "      border-color: transparent;\n",
              "      border-bottom-color: var(--fill-color);\n",
              "      border-left-color: var(--fill-color);\n",
              "    }\n",
              "    20% {\n",
              "      border-color: transparent;\n",
              "      border-left-color: var(--fill-color);\n",
              "      border-top-color: var(--fill-color);\n",
              "    }\n",
              "    30% {\n",
              "      border-color: transparent;\n",
              "      border-left-color: var(--fill-color);\n",
              "      border-top-color: var(--fill-color);\n",
              "      border-right-color: var(--fill-color);\n",
              "    }\n",
              "    40% {\n",
              "      border-color: transparent;\n",
              "      border-right-color: var(--fill-color);\n",
              "      border-top-color: var(--fill-color);\n",
              "    }\n",
              "    60% {\n",
              "      border-color: transparent;\n",
              "      border-right-color: var(--fill-color);\n",
              "    }\n",
              "    80% {\n",
              "      border-color: transparent;\n",
              "      border-right-color: var(--fill-color);\n",
              "      border-bottom-color: var(--fill-color);\n",
              "    }\n",
              "    90% {\n",
              "      border-color: transparent;\n",
              "      border-bottom-color: var(--fill-color);\n",
              "    }\n",
              "  }\n",
              "</style>\n",
              "\n",
              "  <script>\n",
              "    async function quickchart(key) {\n",
              "      const quickchartButtonEl =\n",
              "        document.querySelector('#' + key + ' button');\n",
              "      quickchartButtonEl.disabled = true;  // To prevent multiple clicks.\n",
              "      quickchartButtonEl.classList.add('colab-df-spinner');\n",
              "      try {\n",
              "        const charts = await google.colab.kernel.invokeFunction(\n",
              "            'suggestCharts', [key], {});\n",
              "      } catch (error) {\n",
              "        console.error('Error during call to suggestCharts:', error);\n",
              "      }\n",
              "      quickchartButtonEl.classList.remove('colab-df-spinner');\n",
              "      quickchartButtonEl.classList.add('colab-df-quickchart-complete');\n",
              "    }\n",
              "    (() => {\n",
              "      let quickchartButtonEl =\n",
              "        document.querySelector('#df-f5be0321-77f1-43c0-a58f-48923c014e8e button');\n",
              "      quickchartButtonEl.style.display =\n",
              "        google.colab.kernel.accessAllowed ? 'block' : 'none';\n",
              "    })();\n",
              "  </script>\n",
              "</div>\n",
              "\n",
              "    </div>\n",
              "  </div>\n"
            ],
            "application/vnd.google.colaboratory.intrinsic+json": {
              "type": "dataframe",
              "variable_name": "df_train",
              "summary": "{\n  \"name\": \"df_train\",\n  \"rows\": 11000,\n  \"fields\": [\n    {\n      \"column\": \"text\",\n      \"properties\": {\n        \"dtype\": \"string\",\n        \"num_unique_values\": 10933,\n        \"samples\": [\n          \"ikan laut di aceh masih mahal\",\n          \"pizza sama coffie nya enak , harga nya juga murah banget hehehe sewaktu ke sini dulu waktu hujan jadi bisa sambil santai lama sekali :\",\n          \"kalau mau merasakan roti zaman dahulu , ini salah satu tempat nya . buka nya hanya sampai sore , jadi kalau pulang kantor kadang tidak keburu ke sini\"\n        ],\n        \"semantic_type\": \"\",\n        \"description\": \"\"\n      }\n    },\n    {\n      \"column\": \"emotion\",\n      \"properties\": {\n        \"dtype\": \"category\",\n        \"num_unique_values\": 3,\n        \"samples\": [\n          \"positive\",\n          \"neutral\",\n          \"negative\"\n        ],\n        \"semantic_type\": \"\",\n        \"description\": \"\"\n      }\n    }\n  ]\n}"
            }
          },
          "metadata": {},
          "execution_count": 273
        }
      ]
    },
    {
      "cell_type": "markdown",
      "source": [
        "# Pre-processing"
      ],
      "metadata": {
        "id": "s5Ido7FReY6D"
      }
    },
    {
      "cell_type": "markdown",
      "source": [
        "## Remove punctuation and numbers"
      ],
      "metadata": {
        "id": "AyXNo0x3eacX"
      }
    },
    {
      "cell_type": "code",
      "source": [
        "def remove_punctuation(text):\n",
        "    return re.sub('[^a-zA-Z]', ' ', text)"
      ],
      "metadata": {
        "id": "xKZEPC6YecDL"
      },
      "execution_count": 274,
      "outputs": []
    },
    {
      "cell_type": "code",
      "source": [
        "df_train['text'] = df_train['text'].apply(remove_punctuation)\n",
        "df_valid['text'] = df_valid['text'].apply(remove_punctuation)\n",
        "df_test_unmasked['text'] = df_test_unmasked['text'].apply(remove_punctuation)\n",
        "df_test_masked['text'] = df_test_masked['text'].apply(remove_punctuation)\n",
        "\n",
        "vocab_filtered = []\n",
        "\n",
        "for word in vocab:\n",
        "  word_filtered = remove_punctuation(word)\n",
        "  vocab_filtered.append(word_filtered)"
      ],
      "metadata": {
        "id": "oFntPDQwedoi"
      },
      "execution_count": 275,
      "outputs": []
    },
    {
      "cell_type": "markdown",
      "source": [
        "## Stop words removal and tokenization"
      ],
      "metadata": {
        "id": "XXjmu_Am7Q3Y"
      }
    },
    {
      "cell_type": "code",
      "source": [
        "# Set stopwords\n",
        "stop_words = set(stopwords.words('indonesian'))\n",
        "\n",
        "def tokenize_text(text):\n",
        "    tokens = word_tokenize(text)\n",
        "    # Remove stop words\n",
        "    tokens = [word for word in tokens if word not in stop_words]\n",
        "    return ' '.join(tokens)\n",
        "\n",
        "# Apply tokenization to the train, validation, and test datasets\n",
        "df_train['text'] = df_train['text'].apply(tokenize_text)\n",
        "df_valid['text'] = df_valid['text'].apply(tokenize_text)\n",
        "df_test_unmasked['text'] = df_test_unmasked['text'].apply(tokenize_text)"
      ],
      "metadata": {
        "id": "yzpzJxvzxizt"
      },
      "execution_count": 276,
      "outputs": []
    },
    {
      "cell_type": "code",
      "source": [
        "df_train.head(10)"
      ],
      "metadata": {
        "id": "uLqgitG61lCi",
        "colab": {
          "base_uri": "https://localhost:8080/",
          "height": 363
        },
        "outputId": "edec780a-d47b-4400-e033-b41fb723a351"
      },
      "execution_count": 277,
      "outputs": [
        {
          "output_type": "execute_result",
          "data": {
            "text/plain": [
              "                                                text   emotion\n",
              "0  warung dimiliki pengusaha pabrik puluhan terke...  positive\n",
              "1  mohon ulama lurus k mmbri hujjah partai diwlh ...   neutral\n",
              "2  lokasi strategis jalan sumatera bandung nya ny...  positive\n",
              "3  betapa bahagia nya unboxing paket barang nya b...  positive\n",
              "4  duh mahasiswa sombong kasih kartu kuning belaj...  negative\n",
              "5  makanan beragam harga makanan food stall kasir...  positive\n",
              "6                 pakai kartu kredit bca untung rugi  negative\n",
              "7  unik bagus foto makanan enak pegawai ramah ber...  positive\n",
              "8  keluarga menikmati pengalaman kuliner menyenan...  positive\n",
              "9                                          bersyukur  positive"
            ],
            "text/html": [
              "\n",
              "  <div id=\"df-22c32f9f-0472-4441-8cfb-0baf098581ba\" class=\"colab-df-container\">\n",
              "    <div>\n",
              "<style scoped>\n",
              "    .dataframe tbody tr th:only-of-type {\n",
              "        vertical-align: middle;\n",
              "    }\n",
              "\n",
              "    .dataframe tbody tr th {\n",
              "        vertical-align: top;\n",
              "    }\n",
              "\n",
              "    .dataframe thead th {\n",
              "        text-align: right;\n",
              "    }\n",
              "</style>\n",
              "<table border=\"1\" class=\"dataframe\">\n",
              "  <thead>\n",
              "    <tr style=\"text-align: right;\">\n",
              "      <th></th>\n",
              "      <th>text</th>\n",
              "      <th>emotion</th>\n",
              "    </tr>\n",
              "  </thead>\n",
              "  <tbody>\n",
              "    <tr>\n",
              "      <th>0</th>\n",
              "      <td>warung dimiliki pengusaha pabrik puluhan terke...</td>\n",
              "      <td>positive</td>\n",
              "    </tr>\n",
              "    <tr>\n",
              "      <th>1</th>\n",
              "      <td>mohon ulama lurus k mmbri hujjah partai diwlh ...</td>\n",
              "      <td>neutral</td>\n",
              "    </tr>\n",
              "    <tr>\n",
              "      <th>2</th>\n",
              "      <td>lokasi strategis jalan sumatera bandung nya ny...</td>\n",
              "      <td>positive</td>\n",
              "    </tr>\n",
              "    <tr>\n",
              "      <th>3</th>\n",
              "      <td>betapa bahagia nya unboxing paket barang nya b...</td>\n",
              "      <td>positive</td>\n",
              "    </tr>\n",
              "    <tr>\n",
              "      <th>4</th>\n",
              "      <td>duh mahasiswa sombong kasih kartu kuning belaj...</td>\n",
              "      <td>negative</td>\n",
              "    </tr>\n",
              "    <tr>\n",
              "      <th>5</th>\n",
              "      <td>makanan beragam harga makanan food stall kasir...</td>\n",
              "      <td>positive</td>\n",
              "    </tr>\n",
              "    <tr>\n",
              "      <th>6</th>\n",
              "      <td>pakai kartu kredit bca untung rugi</td>\n",
              "      <td>negative</td>\n",
              "    </tr>\n",
              "    <tr>\n",
              "      <th>7</th>\n",
              "      <td>unik bagus foto makanan enak pegawai ramah ber...</td>\n",
              "      <td>positive</td>\n",
              "    </tr>\n",
              "    <tr>\n",
              "      <th>8</th>\n",
              "      <td>keluarga menikmati pengalaman kuliner menyenan...</td>\n",
              "      <td>positive</td>\n",
              "    </tr>\n",
              "    <tr>\n",
              "      <th>9</th>\n",
              "      <td>bersyukur</td>\n",
              "      <td>positive</td>\n",
              "    </tr>\n",
              "  </tbody>\n",
              "</table>\n",
              "</div>\n",
              "    <div class=\"colab-df-buttons\">\n",
              "\n",
              "  <div class=\"colab-df-container\">\n",
              "    <button class=\"colab-df-convert\" onclick=\"convertToInteractive('df-22c32f9f-0472-4441-8cfb-0baf098581ba')\"\n",
              "            title=\"Convert this dataframe to an interactive table.\"\n",
              "            style=\"display:none;\">\n",
              "\n",
              "  <svg xmlns=\"http://www.w3.org/2000/svg\" height=\"24px\" viewBox=\"0 -960 960 960\">\n",
              "    <path d=\"M120-120v-720h720v720H120Zm60-500h600v-160H180v160Zm220 220h160v-160H400v160Zm0 220h160v-160H400v160ZM180-400h160v-160H180v160Zm440 0h160v-160H620v160ZM180-180h160v-160H180v160Zm440 0h160v-160H620v160Z\"/>\n",
              "  </svg>\n",
              "    </button>\n",
              "\n",
              "  <style>\n",
              "    .colab-df-container {\n",
              "      display:flex;\n",
              "      gap: 12px;\n",
              "    }\n",
              "\n",
              "    .colab-df-convert {\n",
              "      background-color: #E8F0FE;\n",
              "      border: none;\n",
              "      border-radius: 50%;\n",
              "      cursor: pointer;\n",
              "      display: none;\n",
              "      fill: #1967D2;\n",
              "      height: 32px;\n",
              "      padding: 0 0 0 0;\n",
              "      width: 32px;\n",
              "    }\n",
              "\n",
              "    .colab-df-convert:hover {\n",
              "      background-color: #E2EBFA;\n",
              "      box-shadow: 0px 1px 2px rgba(60, 64, 67, 0.3), 0px 1px 3px 1px rgba(60, 64, 67, 0.15);\n",
              "      fill: #174EA6;\n",
              "    }\n",
              "\n",
              "    .colab-df-buttons div {\n",
              "      margin-bottom: 4px;\n",
              "    }\n",
              "\n",
              "    [theme=dark] .colab-df-convert {\n",
              "      background-color: #3B4455;\n",
              "      fill: #D2E3FC;\n",
              "    }\n",
              "\n",
              "    [theme=dark] .colab-df-convert:hover {\n",
              "      background-color: #434B5C;\n",
              "      box-shadow: 0px 1px 3px 1px rgba(0, 0, 0, 0.15);\n",
              "      filter: drop-shadow(0px 1px 2px rgba(0, 0, 0, 0.3));\n",
              "      fill: #FFFFFF;\n",
              "    }\n",
              "  </style>\n",
              "\n",
              "    <script>\n",
              "      const buttonEl =\n",
              "        document.querySelector('#df-22c32f9f-0472-4441-8cfb-0baf098581ba button.colab-df-convert');\n",
              "      buttonEl.style.display =\n",
              "        google.colab.kernel.accessAllowed ? 'block' : 'none';\n",
              "\n",
              "      async function convertToInteractive(key) {\n",
              "        const element = document.querySelector('#df-22c32f9f-0472-4441-8cfb-0baf098581ba');\n",
              "        const dataTable =\n",
              "          await google.colab.kernel.invokeFunction('convertToInteractive',\n",
              "                                                    [key], {});\n",
              "        if (!dataTable) return;\n",
              "\n",
              "        const docLinkHtml = 'Like what you see? Visit the ' +\n",
              "          '<a target=\"_blank\" href=https://colab.research.google.com/notebooks/data_table.ipynb>data table notebook</a>'\n",
              "          + ' to learn more about interactive tables.';\n",
              "        element.innerHTML = '';\n",
              "        dataTable['output_type'] = 'display_data';\n",
              "        await google.colab.output.renderOutput(dataTable, element);\n",
              "        const docLink = document.createElement('div');\n",
              "        docLink.innerHTML = docLinkHtml;\n",
              "        element.appendChild(docLink);\n",
              "      }\n",
              "    </script>\n",
              "  </div>\n",
              "\n",
              "\n",
              "<div id=\"df-c9d3947e-d911-4cc0-a767-f06ab4e24a9f\">\n",
              "  <button class=\"colab-df-quickchart\" onclick=\"quickchart('df-c9d3947e-d911-4cc0-a767-f06ab4e24a9f')\"\n",
              "            title=\"Suggest charts\"\n",
              "            style=\"display:none;\">\n",
              "\n",
              "<svg xmlns=\"http://www.w3.org/2000/svg\" height=\"24px\"viewBox=\"0 0 24 24\"\n",
              "     width=\"24px\">\n",
              "    <g>\n",
              "        <path d=\"M19 3H5c-1.1 0-2 .9-2 2v14c0 1.1.9 2 2 2h14c1.1 0 2-.9 2-2V5c0-1.1-.9-2-2-2zM9 17H7v-7h2v7zm4 0h-2V7h2v10zm4 0h-2v-4h2v4z\"/>\n",
              "    </g>\n",
              "</svg>\n",
              "  </button>\n",
              "\n",
              "<style>\n",
              "  .colab-df-quickchart {\n",
              "      --bg-color: #E8F0FE;\n",
              "      --fill-color: #1967D2;\n",
              "      --hover-bg-color: #E2EBFA;\n",
              "      --hover-fill-color: #174EA6;\n",
              "      --disabled-fill-color: #AAA;\n",
              "      --disabled-bg-color: #DDD;\n",
              "  }\n",
              "\n",
              "  [theme=dark] .colab-df-quickchart {\n",
              "      --bg-color: #3B4455;\n",
              "      --fill-color: #D2E3FC;\n",
              "      --hover-bg-color: #434B5C;\n",
              "      --hover-fill-color: #FFFFFF;\n",
              "      --disabled-bg-color: #3B4455;\n",
              "      --disabled-fill-color: #666;\n",
              "  }\n",
              "\n",
              "  .colab-df-quickchart {\n",
              "    background-color: var(--bg-color);\n",
              "    border: none;\n",
              "    border-radius: 50%;\n",
              "    cursor: pointer;\n",
              "    display: none;\n",
              "    fill: var(--fill-color);\n",
              "    height: 32px;\n",
              "    padding: 0;\n",
              "    width: 32px;\n",
              "  }\n",
              "\n",
              "  .colab-df-quickchart:hover {\n",
              "    background-color: var(--hover-bg-color);\n",
              "    box-shadow: 0 1px 2px rgba(60, 64, 67, 0.3), 0 1px 3px 1px rgba(60, 64, 67, 0.15);\n",
              "    fill: var(--button-hover-fill-color);\n",
              "  }\n",
              "\n",
              "  .colab-df-quickchart-complete:disabled,\n",
              "  .colab-df-quickchart-complete:disabled:hover {\n",
              "    background-color: var(--disabled-bg-color);\n",
              "    fill: var(--disabled-fill-color);\n",
              "    box-shadow: none;\n",
              "  }\n",
              "\n",
              "  .colab-df-spinner {\n",
              "    border: 2px solid var(--fill-color);\n",
              "    border-color: transparent;\n",
              "    border-bottom-color: var(--fill-color);\n",
              "    animation:\n",
              "      spin 1s steps(1) infinite;\n",
              "  }\n",
              "\n",
              "  @keyframes spin {\n",
              "    0% {\n",
              "      border-color: transparent;\n",
              "      border-bottom-color: var(--fill-color);\n",
              "      border-left-color: var(--fill-color);\n",
              "    }\n",
              "    20% {\n",
              "      border-color: transparent;\n",
              "      border-left-color: var(--fill-color);\n",
              "      border-top-color: var(--fill-color);\n",
              "    }\n",
              "    30% {\n",
              "      border-color: transparent;\n",
              "      border-left-color: var(--fill-color);\n",
              "      border-top-color: var(--fill-color);\n",
              "      border-right-color: var(--fill-color);\n",
              "    }\n",
              "    40% {\n",
              "      border-color: transparent;\n",
              "      border-right-color: var(--fill-color);\n",
              "      border-top-color: var(--fill-color);\n",
              "    }\n",
              "    60% {\n",
              "      border-color: transparent;\n",
              "      border-right-color: var(--fill-color);\n",
              "    }\n",
              "    80% {\n",
              "      border-color: transparent;\n",
              "      border-right-color: var(--fill-color);\n",
              "      border-bottom-color: var(--fill-color);\n",
              "    }\n",
              "    90% {\n",
              "      border-color: transparent;\n",
              "      border-bottom-color: var(--fill-color);\n",
              "    }\n",
              "  }\n",
              "</style>\n",
              "\n",
              "  <script>\n",
              "    async function quickchart(key) {\n",
              "      const quickchartButtonEl =\n",
              "        document.querySelector('#' + key + ' button');\n",
              "      quickchartButtonEl.disabled = true;  // To prevent multiple clicks.\n",
              "      quickchartButtonEl.classList.add('colab-df-spinner');\n",
              "      try {\n",
              "        const charts = await google.colab.kernel.invokeFunction(\n",
              "            'suggestCharts', [key], {});\n",
              "      } catch (error) {\n",
              "        console.error('Error during call to suggestCharts:', error);\n",
              "      }\n",
              "      quickchartButtonEl.classList.remove('colab-df-spinner');\n",
              "      quickchartButtonEl.classList.add('colab-df-quickchart-complete');\n",
              "    }\n",
              "    (() => {\n",
              "      let quickchartButtonEl =\n",
              "        document.querySelector('#df-c9d3947e-d911-4cc0-a767-f06ab4e24a9f button');\n",
              "      quickchartButtonEl.style.display =\n",
              "        google.colab.kernel.accessAllowed ? 'block' : 'none';\n",
              "    })();\n",
              "  </script>\n",
              "</div>\n",
              "\n",
              "    </div>\n",
              "  </div>\n"
            ],
            "application/vnd.google.colaboratory.intrinsic+json": {
              "type": "dataframe",
              "variable_name": "df_train",
              "summary": "{\n  \"name\": \"df_train\",\n  \"rows\": 11000,\n  \"fields\": [\n    {\n      \"column\": \"text\",\n      \"properties\": {\n        \"dtype\": \"string\",\n        \"num_unique_values\": 10787,\n        \"samples\": [\n          \"jokowi ulama\",\n          \"marah marah melelahkan\",\n          \"bravo envoice vocal group itb tampil vidhafest km mantap keren banget\"\n        ],\n        \"semantic_type\": \"\",\n        \"description\": \"\"\n      }\n    },\n    {\n      \"column\": \"emotion\",\n      \"properties\": {\n        \"dtype\": \"category\",\n        \"num_unique_values\": 3,\n        \"samples\": [\n          \"positive\",\n          \"neutral\",\n          \"negative\"\n        ],\n        \"semantic_type\": \"\",\n        \"description\": \"\"\n      }\n    }\n  ]\n}"
            }
          },
          "metadata": {},
          "execution_count": 277
        }
      ]
    },
    {
      "cell_type": "code",
      "source": [
        "df_test_unmasked.head(10)"
      ],
      "metadata": {
        "id": "RCn3vsrn1nj8",
        "colab": {
          "base_uri": "https://localhost:8080/",
          "height": 363
        },
        "outputId": "bcd3d4cc-7027-4618-b399-e8057f377ffa"
      },
      "execution_count": 278,
      "outputs": [
        {
          "output_type": "execute_result",
          "data": {
            "text/plain": [
              "                                                text   emotion\n",
              "0  kemarin gue makan dago gue makanan nya enak ha...  negative\n",
              "1  kayak nya sih gue gila ya gue ngerti nya dibia...  negative\n",
              "2  dipikir pikir dibanggakan jokowi nepatin janji...  negative\n",
              "3  kalinya gua bank ngurusin pembuatan rekening n...  negative\n",
              "4  gue disuruh latihan karate nya biar gue melawa...  negative\n",
              "5  pelayanan hotel salak bogor sebagus gue membay...  negative\n",
              "6  young lex mengirim berfaedah kayak gitu merusa...  negative\n",
              "7  gue pesimis manusia ngurusin sampah hewan hewa...  negative\n",
              "8  kecewa pengeditan biodata penumpang by sistem ...  negative\n",
              "9  pemesanan tiket kunjung terima menelpon pelaya...  negative"
            ],
            "text/html": [
              "\n",
              "  <div id=\"df-60276d39-26d3-4266-9d8c-8860e8549abb\" class=\"colab-df-container\">\n",
              "    <div>\n",
              "<style scoped>\n",
              "    .dataframe tbody tr th:only-of-type {\n",
              "        vertical-align: middle;\n",
              "    }\n",
              "\n",
              "    .dataframe tbody tr th {\n",
              "        vertical-align: top;\n",
              "    }\n",
              "\n",
              "    .dataframe thead th {\n",
              "        text-align: right;\n",
              "    }\n",
              "</style>\n",
              "<table border=\"1\" class=\"dataframe\">\n",
              "  <thead>\n",
              "    <tr style=\"text-align: right;\">\n",
              "      <th></th>\n",
              "      <th>text</th>\n",
              "      <th>emotion</th>\n",
              "    </tr>\n",
              "  </thead>\n",
              "  <tbody>\n",
              "    <tr>\n",
              "      <th>0</th>\n",
              "      <td>kemarin gue makan dago gue makanan nya enak ha...</td>\n",
              "      <td>negative</td>\n",
              "    </tr>\n",
              "    <tr>\n",
              "      <th>1</th>\n",
              "      <td>kayak nya sih gue gila ya gue ngerti nya dibia...</td>\n",
              "      <td>negative</td>\n",
              "    </tr>\n",
              "    <tr>\n",
              "      <th>2</th>\n",
              "      <td>dipikir pikir dibanggakan jokowi nepatin janji...</td>\n",
              "      <td>negative</td>\n",
              "    </tr>\n",
              "    <tr>\n",
              "      <th>3</th>\n",
              "      <td>kalinya gua bank ngurusin pembuatan rekening n...</td>\n",
              "      <td>negative</td>\n",
              "    </tr>\n",
              "    <tr>\n",
              "      <th>4</th>\n",
              "      <td>gue disuruh latihan karate nya biar gue melawa...</td>\n",
              "      <td>negative</td>\n",
              "    </tr>\n",
              "    <tr>\n",
              "      <th>5</th>\n",
              "      <td>pelayanan hotel salak bogor sebagus gue membay...</td>\n",
              "      <td>negative</td>\n",
              "    </tr>\n",
              "    <tr>\n",
              "      <th>6</th>\n",
              "      <td>young lex mengirim berfaedah kayak gitu merusa...</td>\n",
              "      <td>negative</td>\n",
              "    </tr>\n",
              "    <tr>\n",
              "      <th>7</th>\n",
              "      <td>gue pesimis manusia ngurusin sampah hewan hewa...</td>\n",
              "      <td>negative</td>\n",
              "    </tr>\n",
              "    <tr>\n",
              "      <th>8</th>\n",
              "      <td>kecewa pengeditan biodata penumpang by sistem ...</td>\n",
              "      <td>negative</td>\n",
              "    </tr>\n",
              "    <tr>\n",
              "      <th>9</th>\n",
              "      <td>pemesanan tiket kunjung terima menelpon pelaya...</td>\n",
              "      <td>negative</td>\n",
              "    </tr>\n",
              "  </tbody>\n",
              "</table>\n",
              "</div>\n",
              "    <div class=\"colab-df-buttons\">\n",
              "\n",
              "  <div class=\"colab-df-container\">\n",
              "    <button class=\"colab-df-convert\" onclick=\"convertToInteractive('df-60276d39-26d3-4266-9d8c-8860e8549abb')\"\n",
              "            title=\"Convert this dataframe to an interactive table.\"\n",
              "            style=\"display:none;\">\n",
              "\n",
              "  <svg xmlns=\"http://www.w3.org/2000/svg\" height=\"24px\" viewBox=\"0 -960 960 960\">\n",
              "    <path d=\"M120-120v-720h720v720H120Zm60-500h600v-160H180v160Zm220 220h160v-160H400v160Zm0 220h160v-160H400v160ZM180-400h160v-160H180v160Zm440 0h160v-160H620v160ZM180-180h160v-160H180v160Zm440 0h160v-160H620v160Z\"/>\n",
              "  </svg>\n",
              "    </button>\n",
              "\n",
              "  <style>\n",
              "    .colab-df-container {\n",
              "      display:flex;\n",
              "      gap: 12px;\n",
              "    }\n",
              "\n",
              "    .colab-df-convert {\n",
              "      background-color: #E8F0FE;\n",
              "      border: none;\n",
              "      border-radius: 50%;\n",
              "      cursor: pointer;\n",
              "      display: none;\n",
              "      fill: #1967D2;\n",
              "      height: 32px;\n",
              "      padding: 0 0 0 0;\n",
              "      width: 32px;\n",
              "    }\n",
              "\n",
              "    .colab-df-convert:hover {\n",
              "      background-color: #E2EBFA;\n",
              "      box-shadow: 0px 1px 2px rgba(60, 64, 67, 0.3), 0px 1px 3px 1px rgba(60, 64, 67, 0.15);\n",
              "      fill: #174EA6;\n",
              "    }\n",
              "\n",
              "    .colab-df-buttons div {\n",
              "      margin-bottom: 4px;\n",
              "    }\n",
              "\n",
              "    [theme=dark] .colab-df-convert {\n",
              "      background-color: #3B4455;\n",
              "      fill: #D2E3FC;\n",
              "    }\n",
              "\n",
              "    [theme=dark] .colab-df-convert:hover {\n",
              "      background-color: #434B5C;\n",
              "      box-shadow: 0px 1px 3px 1px rgba(0, 0, 0, 0.15);\n",
              "      filter: drop-shadow(0px 1px 2px rgba(0, 0, 0, 0.3));\n",
              "      fill: #FFFFFF;\n",
              "    }\n",
              "  </style>\n",
              "\n",
              "    <script>\n",
              "      const buttonEl =\n",
              "        document.querySelector('#df-60276d39-26d3-4266-9d8c-8860e8549abb button.colab-df-convert');\n",
              "      buttonEl.style.display =\n",
              "        google.colab.kernel.accessAllowed ? 'block' : 'none';\n",
              "\n",
              "      async function convertToInteractive(key) {\n",
              "        const element = document.querySelector('#df-60276d39-26d3-4266-9d8c-8860e8549abb');\n",
              "        const dataTable =\n",
              "          await google.colab.kernel.invokeFunction('convertToInteractive',\n",
              "                                                    [key], {});\n",
              "        if (!dataTable) return;\n",
              "\n",
              "        const docLinkHtml = 'Like what you see? Visit the ' +\n",
              "          '<a target=\"_blank\" href=https://colab.research.google.com/notebooks/data_table.ipynb>data table notebook</a>'\n",
              "          + ' to learn more about interactive tables.';\n",
              "        element.innerHTML = '';\n",
              "        dataTable['output_type'] = 'display_data';\n",
              "        await google.colab.output.renderOutput(dataTable, element);\n",
              "        const docLink = document.createElement('div');\n",
              "        docLink.innerHTML = docLinkHtml;\n",
              "        element.appendChild(docLink);\n",
              "      }\n",
              "    </script>\n",
              "  </div>\n",
              "\n",
              "\n",
              "<div id=\"df-2333947e-7247-4b61-bcd8-3ff6e048bb26\">\n",
              "  <button class=\"colab-df-quickchart\" onclick=\"quickchart('df-2333947e-7247-4b61-bcd8-3ff6e048bb26')\"\n",
              "            title=\"Suggest charts\"\n",
              "            style=\"display:none;\">\n",
              "\n",
              "<svg xmlns=\"http://www.w3.org/2000/svg\" height=\"24px\"viewBox=\"0 0 24 24\"\n",
              "     width=\"24px\">\n",
              "    <g>\n",
              "        <path d=\"M19 3H5c-1.1 0-2 .9-2 2v14c0 1.1.9 2 2 2h14c1.1 0 2-.9 2-2V5c0-1.1-.9-2-2-2zM9 17H7v-7h2v7zm4 0h-2V7h2v10zm4 0h-2v-4h2v4z\"/>\n",
              "    </g>\n",
              "</svg>\n",
              "  </button>\n",
              "\n",
              "<style>\n",
              "  .colab-df-quickchart {\n",
              "      --bg-color: #E8F0FE;\n",
              "      --fill-color: #1967D2;\n",
              "      --hover-bg-color: #E2EBFA;\n",
              "      --hover-fill-color: #174EA6;\n",
              "      --disabled-fill-color: #AAA;\n",
              "      --disabled-bg-color: #DDD;\n",
              "  }\n",
              "\n",
              "  [theme=dark] .colab-df-quickchart {\n",
              "      --bg-color: #3B4455;\n",
              "      --fill-color: #D2E3FC;\n",
              "      --hover-bg-color: #434B5C;\n",
              "      --hover-fill-color: #FFFFFF;\n",
              "      --disabled-bg-color: #3B4455;\n",
              "      --disabled-fill-color: #666;\n",
              "  }\n",
              "\n",
              "  .colab-df-quickchart {\n",
              "    background-color: var(--bg-color);\n",
              "    border: none;\n",
              "    border-radius: 50%;\n",
              "    cursor: pointer;\n",
              "    display: none;\n",
              "    fill: var(--fill-color);\n",
              "    height: 32px;\n",
              "    padding: 0;\n",
              "    width: 32px;\n",
              "  }\n",
              "\n",
              "  .colab-df-quickchart:hover {\n",
              "    background-color: var(--hover-bg-color);\n",
              "    box-shadow: 0 1px 2px rgba(60, 64, 67, 0.3), 0 1px 3px 1px rgba(60, 64, 67, 0.15);\n",
              "    fill: var(--button-hover-fill-color);\n",
              "  }\n",
              "\n",
              "  .colab-df-quickchart-complete:disabled,\n",
              "  .colab-df-quickchart-complete:disabled:hover {\n",
              "    background-color: var(--disabled-bg-color);\n",
              "    fill: var(--disabled-fill-color);\n",
              "    box-shadow: none;\n",
              "  }\n",
              "\n",
              "  .colab-df-spinner {\n",
              "    border: 2px solid var(--fill-color);\n",
              "    border-color: transparent;\n",
              "    border-bottom-color: var(--fill-color);\n",
              "    animation:\n",
              "      spin 1s steps(1) infinite;\n",
              "  }\n",
              "\n",
              "  @keyframes spin {\n",
              "    0% {\n",
              "      border-color: transparent;\n",
              "      border-bottom-color: var(--fill-color);\n",
              "      border-left-color: var(--fill-color);\n",
              "    }\n",
              "    20% {\n",
              "      border-color: transparent;\n",
              "      border-left-color: var(--fill-color);\n",
              "      border-top-color: var(--fill-color);\n",
              "    }\n",
              "    30% {\n",
              "      border-color: transparent;\n",
              "      border-left-color: var(--fill-color);\n",
              "      border-top-color: var(--fill-color);\n",
              "      border-right-color: var(--fill-color);\n",
              "    }\n",
              "    40% {\n",
              "      border-color: transparent;\n",
              "      border-right-color: var(--fill-color);\n",
              "      border-top-color: var(--fill-color);\n",
              "    }\n",
              "    60% {\n",
              "      border-color: transparent;\n",
              "      border-right-color: var(--fill-color);\n",
              "    }\n",
              "    80% {\n",
              "      border-color: transparent;\n",
              "      border-right-color: var(--fill-color);\n",
              "      border-bottom-color: var(--fill-color);\n",
              "    }\n",
              "    90% {\n",
              "      border-color: transparent;\n",
              "      border-bottom-color: var(--fill-color);\n",
              "    }\n",
              "  }\n",
              "</style>\n",
              "\n",
              "  <script>\n",
              "    async function quickchart(key) {\n",
              "      const quickchartButtonEl =\n",
              "        document.querySelector('#' + key + ' button');\n",
              "      quickchartButtonEl.disabled = true;  // To prevent multiple clicks.\n",
              "      quickchartButtonEl.classList.add('colab-df-spinner');\n",
              "      try {\n",
              "        const charts = await google.colab.kernel.invokeFunction(\n",
              "            'suggestCharts', [key], {});\n",
              "      } catch (error) {\n",
              "        console.error('Error during call to suggestCharts:', error);\n",
              "      }\n",
              "      quickchartButtonEl.classList.remove('colab-df-spinner');\n",
              "      quickchartButtonEl.classList.add('colab-df-quickchart-complete');\n",
              "    }\n",
              "    (() => {\n",
              "      let quickchartButtonEl =\n",
              "        document.querySelector('#df-2333947e-7247-4b61-bcd8-3ff6e048bb26 button');\n",
              "      quickchartButtonEl.style.display =\n",
              "        google.colab.kernel.accessAllowed ? 'block' : 'none';\n",
              "    })();\n",
              "  </script>\n",
              "</div>\n",
              "\n",
              "    </div>\n",
              "  </div>\n"
            ],
            "application/vnd.google.colaboratory.intrinsic+json": {
              "type": "dataframe",
              "variable_name": "df_test_unmasked",
              "summary": "{\n  \"name\": \"df_test_unmasked\",\n  \"rows\": 500,\n  \"fields\": [\n    {\n      \"column\": \"text\",\n      \"properties\": {\n        \"dtype\": \"string\",\n        \"num_unique_values\": 500,\n        \"samples\": [\n          \"kesian sheila on tenggelem\",\n          \"resmi broadcast kecewa siaran acak iklan pop menutupi layar menayangkan pertandingan lainn nya menjelang asian games sinetron reguler tayangan asian games\",\n          \"mencoba belajar renang tenggelam deh gue renang trauma seram\"\n        ],\n        \"semantic_type\": \"\",\n        \"description\": \"\"\n      }\n    },\n    {\n      \"column\": \"emotion\",\n      \"properties\": {\n        \"dtype\": \"category\",\n        \"num_unique_values\": 3,\n        \"samples\": [\n          \"negative\",\n          \"positive\",\n          \"neutral\"\n        ],\n        \"semantic_type\": \"\",\n        \"description\": \"\"\n      }\n    }\n  ]\n}"
            }
          },
          "metadata": {},
          "execution_count": 278
        }
      ]
    },
    {
      "cell_type": "markdown",
      "source": [
        "# Exploratory Data Analysis"
      ],
      "metadata": {
        "id": "OOW3iWwGdZg9"
      }
    },
    {
      "cell_type": "code",
      "source": [
        "fig = plt.figure(figsize=(4,3))\n",
        "df_train.groupby('emotion').text.count().plot.bar(ylim=0)\n",
        "plt.title(\"Sentiment Distribution in Training Data\")\n",
        "plt.show()\n",
        "df_train.groupby('emotion').text.count()"
      ],
      "metadata": {
        "id": "XO4oaN8KdfSl",
        "colab": {
          "base_uri": "https://localhost:8080/",
          "height": 572
        },
        "outputId": "37c0d809-4a79-41b0-bb87-bb27dae8de71"
      },
      "execution_count": 279,
      "outputs": [
        {
          "output_type": "display_data",
          "data": {
            "text/plain": [
              "<Figure size 400x300 with 1 Axes>"
            ],
            "image/png": "[encoded data removed]"
          },
          "metadata": {}
        },
        {
          "output_type": "execute_result",
          "data": {
            "text/plain": [
              "emotion\n",
              "negative    3436\n",
              "neutral     1148\n",
              "positive    6416\n",
              "Name: text, dtype: int64"
            ],
            "text/html": [
              "<div>\n",
              "<style scoped>\n",
              "    .dataframe tbody tr th:only-of-type {\n",
              "        vertical-align: middle;\n",
              "    }\n",
              "\n",
              "    .dataframe tbody tr th {\n",
              "        vertical-align: top;\n",
              "    }\n",
              "\n",
              "    .dataframe thead th {\n",
              "        text-align: right;\n",
              "    }\n",
              "</style>\n",
              "<table border=\"1\" class=\"dataframe\">\n",
              "  <thead>\n",
              "    <tr style=\"text-align: right;\">\n",
              "      <th></th>\n",
              "      <th>text</th>\n",
              "    </tr>\n",
              "    <tr>\n",
              "      <th>emotion</th>\n",
              "      <th></th>\n",
              "    </tr>\n",
              "  </thead>\n",
              "  <tbody>\n",
              "    <tr>\n",
              "      <th>negative</th>\n",
              "      <td>3436</td>\n",
              "    </tr>\n",
              "    <tr>\n",
              "      <th>neutral</th>\n",
              "      <td>1148</td>\n",
              "    </tr>\n",
              "    <tr>\n",
              "      <th>positive</th>\n",
              "      <td>6416</td>\n",
              "    </tr>\n",
              "  </tbody>\n",
              "</table>\n",
              "</div><br><label><b>dtype:</b> int64</label>"
            ]
          },
          "metadata": {},
          "execution_count": 279
        }
      ]
    },
    {
      "cell_type": "code",
      "source": [
        "# Encoding emotions\n",
        "emotion_encoding = {'negative': 0, 'neutral': 1, 'positive': 2}\n",
        "\n",
        "df_train['emotion'] = df_train['emotion'].replace(emotion_encoding)\n",
        "df_valid['emotion'] = df_valid['emotion'].replace(emotion_encoding)\n",
        "df_test_unmasked['emotion'] = df_test_unmasked['emotion'].replace(emotion_encoding)\n",
        "df_test_masked['emotion'] = df_test_masked['emotion'].replace(emotion_encoding)"
      ],
      "metadata": {
        "id": "zRhTL9SpjP0O"
      },
      "execution_count": 280,
      "outputs": []
    },
    {
      "cell_type": "markdown",
      "source": [
        "# Experiment 1: Linear Kernel"
      ],
      "metadata": {
        "id": "qTSXM2n96p9u"
      }
    },
    {
      "cell_type": "markdown",
      "source": [
        "## Training"
      ],
      "metadata": {
        "id": "2tDnTJT5zr8c"
      }
    },
    {
      "cell_type": "code",
      "source": [
        "# Create a bag of words from the vocab_uncased.txt\n",
        "cleaned_vocab = [string.strip() for string in vocab_filtered if string.strip()]\n",
        "cleaned_vocab = list(dict.fromkeys(cleaned_vocab))\n",
        "vectorizer = CountVectorizer(vocabulary=cleaned_vocab)\n",
        "\n",
        "# Extract training, validation, and test data into each array and transform using vocabulary\n",
        "X_train = vectorizer.transform(df_train['text'])\n",
        "y_train = df_train['emotion']\n",
        "X_valid = vectorizer.transform(df_valid['text'])\n",
        "y_valid = df_valid['emotion']\n",
        "X_test = vectorizer.transform(df_test_unmasked['text'])\n",
        "y_test = df_test_unmasked['emotion']"
      ],
      "metadata": {
        "id": "hGZOPl84zqn0"
      },
      "execution_count": 281,
      "outputs": []
    },
    {
      "cell_type": "code",
      "source": [
        "# Create SVM model with selected experiment kernel and train\n",
        "svm_model = SVC(kernel='linear')\n",
        "svm_model.fit(X_train, y_train)\n",
        "\n",
        "# Do validation\n",
        "y_valid_pred = svm_model.predict(X_valid)"
      ],
      "metadata": {
        "id": "HnLZy05q0TRq"
      },
      "execution_count": 282,
      "outputs": []
    },
    {
      "cell_type": "markdown",
      "source": [
        "## Evaluate training model"
      ],
      "metadata": {
        "id": "mSdmnBZg0hjb"
      }
    },
    {
      "cell_type": "code",
      "source": [
        "def class_report_valid(y_valid, y_valid_pred):\n",
        "  # Evaluate using metrics\n",
        "  accuracy = accuracy_score(y_valid, y_valid_pred)\n",
        "  precision = precision_score(y_valid, y_valid_pred, average='macro')\n",
        "  recall = recall_score(y_valid, y_valid_pred, average='macro')\n",
        "  f1 = f1_score(y_valid, y_valid_pred, average='macro')\n",
        "\n",
        "  print(f'Accuracy: {accuracy}')\n",
        "  print(f'Precision: {precision}')\n",
        "  print(f'Recall: {recall}')\n",
        "  print(f'F1-Score: {f1}')\n",
        "\n",
        "  # Print classification report\n",
        "  print(classification_report(y_valid, y_valid_pred, target_names=['negative', 'neutral', 'positive']))\n",
        "\n",
        "def class_report_test(y_test, y_test_pred):\n",
        "  accuracy_test = accuracy_score(y_test, y_test_pred)\n",
        "  precision_test = precision_score(y_test, y_test_pred, average='macro')\n",
        "  recall_test = recall_score(y_test, y_test_pred, average='macro')\n",
        "  f1_test = f1_score(y_test, y_test_pred, average='macro')\n",
        "\n",
        "  print(f'Test Accuracy: {accuracy_test}')\n",
        "  print(f'Test Precision: {precision_test}')\n",
        "  print(f'Test Recall: {recall_test}')\n",
        "  print(f'Test F1-Score: {f1_test}')"
      ],
      "metadata": {
        "id": "Pxod2Y8q7fEc"
      },
      "execution_count": 283,
      "outputs": []
    },
    {
      "cell_type": "code",
      "source": [
        "# Evaluate on validation set\n",
        "class_report_valid(y_valid, y_valid_pred)"
      ],
      "metadata": {
        "id": "IKY5D5az0ZYy",
        "colab": {
          "base_uri": "https://localhost:8080/"
        },
        "outputId": "8466023a-6ab8-47ee-a944-bcfa315bc881"
      },
      "execution_count": 284,
      "outputs": [
        {
          "output_type": "stream",
          "name": "stdout",
          "text": [
            "Accuracy: 0.8293650793650794\n",
            "Precision: 0.8038126870464487\n",
            "Recall: 0.7658934404673379\n",
            "F1-Score: 0.7802395162308956\n",
            "              precision    recall  f1-score   support\n",
            "\n",
            "    negative       0.74      0.82      0.78       394\n",
            "     neutral       0.78      0.60      0.68       131\n",
            "    positive       0.89      0.87      0.88       735\n",
            "\n",
            "    accuracy                           0.83      1260\n",
            "   macro avg       0.80      0.77      0.78      1260\n",
            "weighted avg       0.83      0.83      0.83      1260\n",
            "\n"
          ]
        }
      ]
    },
    {
      "cell_type": "code",
      "source": [
        "# Predict x column using SVM model\n",
        "y_test_pred = svm_model.predict(X_test)\n",
        "\n",
        "# Evaluate on test set\n",
        "class_report_test(y_test, y_test_pred)\n",
        "\n",
        "# Error analysis: Print misclassified examples\n",
        "df_test_unmasked['predicted_emotion'] = y_test_pred\n",
        "misclassified = df_test_unmasked[df_test_unmasked['emotion'] != df_test_unmasked['predicted_emotion']]\n",
        "misclassified_count = misclassified[['text', 'emotion', 'predicted_emotion']].shape[0]\n",
        "print(f'Banyak data yang salah diprediksi: {misclassified_count}')"
      ],
      "metadata": {
        "id": "KO8FRnw20yHm",
        "colab": {
          "base_uri": "https://localhost:8080/"
        },
        "outputId": "bb922a70-a35e-44f2-8d21-11a658ee229a"
      },
      "execution_count": 285,
      "outputs": [
        {
          "output_type": "stream",
          "name": "stdout",
          "text": [
            "Test Accuracy: 0.71\n",
            "Test Precision: 0.697164438936591\n",
            "Test Recall: 0.6658153937565703\n",
            "Test F1-Score: 0.6757216296480278\n",
            "Banyak data yang salah diprediksi: 145\n"
          ]
        }
      ]
    },
    {
      "cell_type": "code",
      "source": [
        "misclassified_2 = misclassified.copy()\n",
        "\n",
        "emotion_decoding = {0: 'negative', 1: 'neutral', 2: 'positive'}\n",
        "misclassified_2['emotion'] = misclassified_2['emotion'].replace(emotion_decoding)\n",
        "misclassified_2['predicted_emotion'] = misclassified_2['predicted_emotion'].replace(emotion_decoding)\n",
        "\n",
        "fig = plt.figure(figsize=(4,3))\n",
        "misclassified_2.groupby('emotion').text.count().plot.bar(ylim=0)\n",
        "plt.title(\"Misclassified Error Detection Distribution For Linear Kernel\")\n",
        "plt.xlabel('Emotions That Got Predicted Wrong')\n",
        "plt.show()\n",
        "misclassified_2.groupby('emotion').text.count()"
      ],
      "metadata": {
        "id": "ZMI_wNsK4FRk",
        "colab": {
          "base_uri": "https://localhost:8080/",
          "height": 572
        },
        "outputId": "99f65cef-11aa-4148-9c61-865d9ad25afb"
      },
      "execution_count": 286,
      "outputs": [
        {
          "output_type": "display_data",
          "data": {
            "text/plain": [
              "<Figure size 400x300 with 1 Axes>"
            ],
            "image/png": "[encoded data removed]"
          },
          "metadata": {}
        },
        {
          "output_type": "execute_result",
          "data": {
            "text/plain": [
              "emotion\n",
              "negative    41\n",
              "neutral     46\n",
              "positive    58\n",
              "Name: text, dtype: int64"
            ],
            "text/html": [
              "<div>\n",
              "<style scoped>\n",
              "    .dataframe tbody tr th:only-of-type {\n",
              "        vertical-align: middle;\n",
              "    }\n",
              "\n",
              "    .dataframe tbody tr th {\n",
              "        vertical-align: top;\n",
              "    }\n",
              "\n",
              "    .dataframe thead th {\n",
              "        text-align: right;\n",
              "    }\n",
              "</style>\n",
              "<table border=\"1\" class=\"dataframe\">\n",
              "  <thead>\n",
              "    <tr style=\"text-align: right;\">\n",
              "      <th></th>\n",
              "      <th>text</th>\n",
              "    </tr>\n",
              "    <tr>\n",
              "      <th>emotion</th>\n",
              "      <th></th>\n",
              "    </tr>\n",
              "  </thead>\n",
              "  <tbody>\n",
              "    <tr>\n",
              "      <th>negative</th>\n",
              "      <td>41</td>\n",
              "    </tr>\n",
              "    <tr>\n",
              "      <th>neutral</th>\n",
              "      <td>46</td>\n",
              "    </tr>\n",
              "    <tr>\n",
              "      <th>positive</th>\n",
              "      <td>58</td>\n",
              "    </tr>\n",
              "  </tbody>\n",
              "</table>\n",
              "</div><br><label><b>dtype:</b> int64</label>"
            ]
          },
          "metadata": {},
          "execution_count": 286
        }
      ]
    },
    {
      "cell_type": "markdown",
      "source": [
        "# Experiment 2: RBF Kernel"
      ],
      "metadata": {
        "id": "iU8PY-8_60q-"
      }
    },
    {
      "cell_type": "markdown",
      "source": [
        "## Training"
      ],
      "metadata": {
        "id": "RdoLdD5x63nH"
      }
    },
    {
      "cell_type": "code",
      "source": [
        "# Create SVM model with selected experiment kernel and train\n",
        "svm_model = SVC(kernel='rbf')\n",
        "svm_model.fit(X_train, y_train)\n",
        "\n",
        "# Do validation\n",
        "y_valid_pred = svm_model.predict(X_valid)"
      ],
      "metadata": {
        "id": "kslv6BFD6yRm"
      },
      "execution_count": 287,
      "outputs": []
    },
    {
      "cell_type": "markdown",
      "source": [
        "## Evaluate training model"
      ],
      "metadata": {
        "id": "B-yExkJZ6yRm"
      }
    },
    {
      "cell_type": "code",
      "source": [
        "# Evaluate on validation set\n",
        "class_report_valid(y_valid, y_valid_pred)"
      ],
      "metadata": {
        "id": "dJaxCmi06yRm",
        "colab": {
          "base_uri": "https://localhost:8080/"
        },
        "outputId": "fb0711d7-28f9-4a96-b063-743e382c339c"
      },
      "execution_count": 288,
      "outputs": [
        {
          "output_type": "stream",
          "name": "stdout",
          "text": [
            "Accuracy: 0.8444444444444444\n",
            "Precision: 0.8447012965318385\n",
            "Recall: 0.7360940408247618\n",
            "F1-Score: 0.7634555283672672\n",
            "              precision    recall  f1-score   support\n",
            "\n",
            "    negative       0.73      0.86      0.79       394\n",
            "     neutral       0.89      0.44      0.59       131\n",
            "    positive       0.91      0.91      0.91       735\n",
            "\n",
            "    accuracy                           0.84      1260\n",
            "   macro avg       0.84      0.74      0.76      1260\n",
            "weighted avg       0.85      0.84      0.84      1260\n",
            "\n"
          ]
        }
      ]
    },
    {
      "cell_type": "code",
      "source": [
        "# Predict x column using SVM model\n",
        "y_test_pred = svm_model.predict(X_test)\n",
        "\n",
        "# Evaluate on test set\n",
        "class_report_test(y_test, y_test_pred)\n",
        "\n",
        "# Error analysis: Print misclassified examples\n",
        "df_test_unmasked['predicted_emotion'] = y_test_pred\n",
        "misclassified = df_test_unmasked[df_test_unmasked['emotion'] != df_test_unmasked['predicted_emotion']]\n",
        "misclassified_count = misclassified[['text', 'emotion', 'predicted_emotion']].shape[0]\n",
        "print(f'Banyak data yang salah diprediksi: {misclassified_count}')"
      ],
      "metadata": {
        "id": "ZGYP0dlI6yRn",
        "colab": {
          "base_uri": "https://localhost:8080/"
        },
        "outputId": "cac97fd6-7bfe-471f-9e53-8c27be35610b"
      },
      "execution_count": 289,
      "outputs": [
        {
          "output_type": "stream",
          "name": "stdout",
          "text": [
            "Test Accuracy: 0.664\n",
            "Test Precision: 0.7238460601631957\n",
            "Test Recall: 0.5662735956853604\n",
            "Test F1-Score: 0.5591094545745384\n",
            "Banyak data yang salah diprediksi: 168\n"
          ]
        }
      ]
    },
    {
      "cell_type": "code",
      "source": [
        "misclassified_2 = misclassified.copy()\n",
        "\n",
        "emotion_decoding = {0: 'negative', 1: 'neutral', 2: 'positive'}\n",
        "misclassified_2['emotion'] = misclassified_2['emotion'].replace(emotion_decoding)\n",
        "misclassified_2['predicted_emotion'] = misclassified_2['predicted_emotion'].replace(emotion_decoding)\n",
        "\n",
        "fig = plt.figure(figsize=(4,3))\n",
        "misclassified_2.groupby('emotion').text.count().plot.bar(ylim=0)\n",
        "plt.title(\"Misclassified Error Detection Distribution For RBF Kernel\")\n",
        "plt.xlabel('Emotions That Got Predicted Wrong')\n",
        "plt.show()\n",
        "misclassified_2.groupby('emotion').text.count()"
      ],
      "metadata": {
        "id": "Gx4tOOZo6yRn",
        "colab": {
          "base_uri": "https://localhost:8080/",
          "height": 572
        },
        "outputId": "88dc3cd8-0d44-4ad2-8765-ca81758e8bb5"
      },
      "execution_count": 290,
      "outputs": [
        {
          "output_type": "display_data",
          "data": {
            "text/plain": [
              "<Figure size 400x300 with 1 Axes>"
            ],
            "image/png": "[encoded data removed]"
          },
          "metadata": {}
        },
        {
          "output_type": "execute_result",
          "data": {
            "text/plain": [
              "emotion\n",
              "negative    19\n",
              "neutral     75\n",
              "positive    74\n",
              "Name: text, dtype: int64"
            ],
            "text/html": [
              "<div>\n",
              "<style scoped>\n",
              "    .dataframe tbody tr th:only-of-type {\n",
              "        vertical-align: middle;\n",
              "    }\n",
              "\n",
              "    .dataframe tbody tr th {\n",
              "        vertical-align: top;\n",
              "    }\n",
              "\n",
              "    .dataframe thead th {\n",
              "        text-align: right;\n",
              "    }\n",
              "</style>\n",
              "<table border=\"1\" class=\"dataframe\">\n",
              "  <thead>\n",
              "    <tr style=\"text-align: right;\">\n",
              "      <th></th>\n",
              "      <th>text</th>\n",
              "    </tr>\n",
              "    <tr>\n",
              "      <th>emotion</th>\n",
              "      <th></th>\n",
              "    </tr>\n",
              "  </thead>\n",
              "  <tbody>\n",
              "    <tr>\n",
              "      <th>negative</th>\n",
              "      <td>19</td>\n",
              "    </tr>\n",
              "    <tr>\n",
              "      <th>neutral</th>\n",
              "      <td>75</td>\n",
              "    </tr>\n",
              "    <tr>\n",
              "      <th>positive</th>\n",
              "      <td>74</td>\n",
              "    </tr>\n",
              "  </tbody>\n",
              "</table>\n",
              "</div><br><label><b>dtype:</b> int64</label>"
            ]
          },
          "metadata": {},
          "execution_count": 290
        }
      ]
    },
    {
      "cell_type": "markdown",
      "source": [
        "# Experiment 3: Poly Kernel"
      ],
      "metadata": {
        "id": "fW8fyJKw7F7w"
      }
    },
    {
      "cell_type": "markdown",
      "source": [
        "## Training"
      ],
      "metadata": {
        "id": "PUyd9MnR7F7x"
      }
    },
    {
      "cell_type": "code",
      "source": [
        "# Create SVM model with selected experiment kernel and train\n",
        "svm_model = SVC(kernel='poly')\n",
        "svm_model.fit(X_train, y_train)\n",
        "\n",
        "# Do validation\n",
        "y_valid_pred = svm_model.predict(X_valid)"
      ],
      "metadata": {
        "id": "CU0h792n7F7x"
      },
      "execution_count": 291,
      "outputs": []
    },
    {
      "cell_type": "markdown",
      "source": [
        "## Evaluate training model"
      ],
      "metadata": {
        "id": "RiG4Iqon7F7x"
      }
    },
    {
      "cell_type": "code",
      "source": [
        "# Evaluate on validation set\n",
        "class_report_valid(y_valid, y_valid_pred)"
      ],
      "metadata": {
        "id": "MuB1j0pC7F73",
        "colab": {
          "base_uri": "https://localhost:8080/"
        },
        "outputId": "97c705de-1ec1-4ff4-cc48-b3feeba15e20"
      },
      "execution_count": 292,
      "outputs": [
        {
          "output_type": "stream",
          "name": "stdout",
          "text": [
            "Accuracy: 0.6714285714285714\n",
            "Precision: 0.8094591085428903\n",
            "Recall: 0.5311212649769741\n",
            "F1-Score: 0.4796139390738847\n",
            "              precision    recall  f1-score   support\n",
            "\n",
            "    negative       0.49      0.93      0.64       394\n",
            "     neutral       1.00      0.02      0.03       131\n",
            "    positive       0.94      0.65      0.77       735\n",
            "\n",
            "    accuracy                           0.67      1260\n",
            "   macro avg       0.81      0.53      0.48      1260\n",
            "weighted avg       0.81      0.67      0.65      1260\n",
            "\n"
          ]
        }
      ]
    },
    {
      "cell_type": "code",
      "source": [
        "# Predict x column using SVM model\n",
        "y_test_pred = svm_model.predict(X_test)\n",
        "\n",
        "# Evaluate on test set\n",
        "class_report_test(y_test, y_test_pred)\n",
        "\n",
        "# Error analysis: Print misclassified examples\n",
        "df_test_unmasked['predicted_emotion'] = y_test_pred\n",
        "misclassified = df_test_unmasked[df_test_unmasked['emotion'] != df_test_unmasked['predicted_emotion']]\n",
        "misclassified_count = misclassified[['text', 'emotion', 'predicted_emotion']].shape[0]\n",
        "print(f'Banyak data yang salah diprediksi: {misclassified_count}')"
      ],
      "metadata": {
        "id": "Px7YVB9-7F74",
        "colab": {
          "base_uri": "https://localhost:8080/"
        },
        "outputId": "7baabe1e-f704-47d7-ad5c-e1e704be0a25"
      },
      "execution_count": 293,
      "outputs": [
        {
          "output_type": "stream",
          "name": "stdout",
          "text": [
            "Test Accuracy: 0.456\n",
            "Test Precision: 0.4255834577033721\n",
            "Test Recall: 0.3716691804927099\n",
            "Test F1-Score: 0.2761634438391121\n",
            "Banyak data yang salah diprediksi: 272\n"
          ]
        },
        {
          "output_type": "stream",
          "name": "stderr",
          "text": [
            "/usr/local/lib/python3.10/dist-packages/sklearn/metrics/_classification.py:1531: UndefinedMetricWarning: Precision is ill-defined and being set to 0.0 in labels with no predicted samples. Use `zero_division` parameter to control this behavior.\n",
            "  _warn_prf(average, modifier, f\"{metric.capitalize()} is\", len(result))\n"
          ]
        }
      ]
    },
    {
      "cell_type": "code",
      "source": [
        "misclassified_2 = misclassified.copy()\n",
        "\n",
        "emotion_decoding = {0: 'negative', 1: 'neutral', 2: 'positive'}\n",
        "misclassified_2['emotion'] = misclassified_2['emotion'].replace(emotion_decoding)\n",
        "misclassified_2['predicted_emotion'] = misclassified_2['predicted_emotion'].replace(emotion_decoding)\n",
        "\n",
        "fig = plt.figure(figsize=(4,3))\n",
        "misclassified_2.groupby('emotion').text.count().plot.bar(ylim=0)\n",
        "plt.title(\"Misclassified Error Detection Distribution For Poly Kernel\")\n",
        "plt.xlabel('Emotions That Got Predicted Wrong')\n",
        "plt.show()\n",
        "misclassified_2.groupby('emotion').text.count()"
      ],
      "metadata": {
        "id": "3kR4xntN7F74",
        "colab": {
          "base_uri": "https://localhost:8080/",
          "height": 572
        },
        "outputId": "ec417875-3dc2-47fb-c2f6-4acffbf5a55f"
      },
      "execution_count": 294,
      "outputs": [
        {
          "output_type": "display_data",
          "data": {
            "text/plain": [
              "<Figure size 400x300 with 1 Axes>"
            ],
            "image/png": "[encoded data removed]"
          },
          "metadata": {}
        },
        {
          "output_type": "execute_result",
          "data": {
            "text/plain": [
              "emotion\n",
              "negative      4\n",
              "neutral      88\n",
              "positive    180\n",
              "Name: text, dtype: int64"
            ],
            "text/html": [
              "<div>\n",
              "<style scoped>\n",
              "    .dataframe tbody tr th:only-of-type {\n",
              "        vertical-align: middle;\n",
              "    }\n",
              "\n",
              "    .dataframe tbody tr th {\n",
              "        vertical-align: top;\n",
              "    }\n",
              "\n",
              "    .dataframe thead th {\n",
              "        text-align: right;\n",
              "    }\n",
              "</style>\n",
              "<table border=\"1\" class=\"dataframe\">\n",
              "  <thead>\n",
              "    <tr style=\"text-align: right;\">\n",
              "      <th></th>\n",
              "      <th>text</th>\n",
              "    </tr>\n",
              "    <tr>\n",
              "      <th>emotion</th>\n",
              "      <th></th>\n",
              "    </tr>\n",
              "  </thead>\n",
              "  <tbody>\n",
              "    <tr>\n",
              "      <th>negative</th>\n",
              "      <td>4</td>\n",
              "    </tr>\n",
              "    <tr>\n",
              "      <th>neutral</th>\n",
              "      <td>88</td>\n",
              "    </tr>\n",
              "    <tr>\n",
              "      <th>positive</th>\n",
              "      <td>180</td>\n",
              "    </tr>\n",
              "  </tbody>\n",
              "</table>\n",
              "</div><br><label><b>dtype:</b> int64</label>"
            ]
          },
          "metadata": {},
          "execution_count": 294
        }
      ]
    },
    {
      "cell_type": "markdown",
      "source": [
        "# Experiment 4: Hyperparameter tuning"
      ],
      "metadata": {
        "id": "VjoUf9Z4S3AH"
      }
    },
    {
      "cell_type": "code",
      "source": [
        "# Do hyperparameter tuning\n",
        "parameters = {'kernel': ['linear', 'rbf'], 'C': [0.1, 1, 10, 20]}\n",
        "# Use grid search\n",
        "grid_search = GridSearchCV(SVC(), parameters, scoring='f1_macro')\n",
        "grid_search.fit(X_train, y_train)\n",
        "\n",
        "print(f'Best Parameters: {grid_search.best_params_}')"
      ],
      "metadata": {
        "id": "UTKNFhvqQjnP",
        "colab": {
          "base_uri": "https://localhost:8080/"
        },
        "outputId": "20bcc3e3-6fb9-4fc1-e64a-d89a4f719cd6"
      },
      "execution_count": 295,
      "outputs": [
        {
          "output_type": "stream",
          "name": "stdout",
          "text": [
            "Best Parameters: {'C': 10, 'kernel': 'rbf'}\n"
          ]
        }
      ]
    },
    {
      "cell_type": "markdown",
      "source": [
        "## Training"
      ],
      "metadata": {
        "id": "su1TJW-yS6n4"
      }
    },
    {
      "cell_type": "code",
      "source": [
        "# Create SVM model with selected experiment kernel and train\n",
        "svm_model = SVC(kernel='rbf', C=10)\n",
        "svm_model.fit(X_train, y_train)\n",
        "\n",
        "# Do validation\n",
        "y_valid_pred = svm_model.predict(X_valid)"
      ],
      "metadata": {
        "id": "YERsAULXS6n5"
      },
      "execution_count": 296,
      "outputs": []
    },
    {
      "cell_type": "markdown",
      "source": [
        "## Evaluate training model"
      ],
      "metadata": {
        "id": "HyWK-DrnS6n5"
      }
    },
    {
      "cell_type": "code",
      "source": [
        "def class_report_valid(y_valid, y_valid_pred):\n",
        "  # Evaluate using metrics\n",
        "  accuracy = accuracy_score(y_valid, y_valid_pred)\n",
        "  precision = precision_score(y_valid, y_valid_pred, average='macro')\n",
        "  recall = recall_score(y_valid, y_valid_pred, average='macro')\n",
        "  f1 = f1_score(y_valid, y_valid_pred, average='macro')\n",
        "\n",
        "  print(f'Accuracy: {accuracy}')\n",
        "  print(f'Precision: {precision}')\n",
        "  print(f'Recall: {recall}')\n",
        "  print(f'F1-Score: {f1}')\n",
        "\n",
        "  # Print classification report\n",
        "  print(classification_report(y_valid, y_valid_pred, target_names=['negative', 'neutral', 'positive']))\n",
        "\n",
        "def class_report_test(y_test, y_test_pred):\n",
        "  accuracy_test = accuracy_score(y_test, y_test_pred)\n",
        "  precision_test = precision_score(y_test, y_test_pred, average='macro')\n",
        "  recall_test = recall_score(y_test, y_test_pred, average='macro')\n",
        "  f1_test = f1_score(y_test, y_test_pred, average='macro')\n",
        "\n",
        "  print(f'Test Accuracy: {accuracy_test}')\n",
        "  print(f'Test Precision: {precision_test}')\n",
        "  print(f'Test Recall: {recall_test}')\n",
        "  print(f'Test F1-Score: {f1_test}')"
      ],
      "metadata": {
        "id": "YCdV7dCXS6n5"
      },
      "execution_count": 297,
      "outputs": []
    },
    {
      "cell_type": "code",
      "source": [
        "# Evaluate on validation set\n",
        "class_report_valid(y_valid, y_valid_pred)"
      ],
      "metadata": {
        "id": "r1CE7qjhS6n5",
        "colab": {
          "base_uri": "https://localhost:8080/"
        },
        "outputId": "df8a4509-fd6b-4407-c684-491264062843"
      },
      "execution_count": 298,
      "outputs": [
        {
          "output_type": "stream",
          "name": "stdout",
          "text": [
            "Accuracy: 0.846031746031746\n",
            "Precision: 0.8295699769434589\n",
            "Recall: 0.7772442253402568\n",
            "F1-Score: 0.7982707570156701\n",
            "              precision    recall  f1-score   support\n",
            "\n",
            "    negative       0.78      0.80      0.79       394\n",
            "     neutral       0.83      0.62      0.71       131\n",
            "    positive       0.89      0.91      0.90       735\n",
            "\n",
            "    accuracy                           0.85      1260\n",
            "   macro avg       0.83      0.78      0.80      1260\n",
            "weighted avg       0.85      0.85      0.84      1260\n",
            "\n"
          ]
        }
      ]
    },
    {
      "cell_type": "code",
      "source": [
        "# Predict x column using SVM model\n",
        "y_test_pred = svm_model.predict(X_test)\n",
        "\n",
        "# Evaluate on test set\n",
        "class_report_test(y_test, y_test_pred)\n",
        "\n",
        "# Error analysis: Print misclassified examples\n",
        "df_test_unmasked['predicted_emotion'] = y_test_pred\n",
        "misclassified = df_test_unmasked[df_test_unmasked['emotion'] != df_test_unmasked['predicted_emotion']]\n",
        "misclassified_count = misclassified[['text', 'emotion', 'predicted_emotion']].shape[0]\n",
        "print(f'Banyak data yang salah diprediksi: {misclassified_count}')"
      ],
      "metadata": {
        "id": "YGzTvhdHS6n6",
        "colab": {
          "base_uri": "https://localhost:8080/"
        },
        "outputId": "706753f8-2105-4577-f439-4fd9e25c2f61"
      },
      "execution_count": 299,
      "outputs": [
        {
          "output_type": "stream",
          "name": "stdout",
          "text": [
            "Test Accuracy: 0.716\n",
            "Test Precision: 0.6930278226108442\n",
            "Test Recall: 0.6597593582887701\n",
            "Test F1-Score: 0.6688967451379398\n",
            "Banyak data yang salah diprediksi: 142\n"
          ]
        }
      ]
    },
    {
      "cell_type": "code",
      "source": [
        "misclassified_2 = misclassified.copy()\n",
        "\n",
        "emotion_decoding = {0: 'negative', 1: 'neutral', 2: 'positive'}\n",
        "misclassified_2['emotion'] = misclassified_2['emotion'].replace(emotion_decoding)\n",
        "misclassified_2['predicted_emotion'] = misclassified_2['predicted_emotion'].replace(emotion_decoding)\n",
        "\n",
        "fig = plt.figure(figsize=(4,3))\n",
        "misclassified_2.groupby('emotion').text.count().plot.bar(ylim=0)\n",
        "plt.title(\"Misclassified Error Detection Distribution For Hyperparameter Tuning\")\n",
        "plt.xlabel('Emotions That Got Predicted Wrong')\n",
        "plt.show()\n",
        "misclassified_2.groupby('emotion').text.count()"
      ],
      "metadata": {
        "id": "hjCeq1C7S6n6",
        "colab": {
          "base_uri": "https://localhost:8080/",
          "height": 572
        },
        "outputId": "9fbd9a82-3231-4862-dd91-e01e21787cb2"
      },
      "execution_count": 300,
      "outputs": [
        {
          "output_type": "display_data",
          "data": {
            "text/plain": [
              "<Figure size 400x300 with 1 Axes>"
            ],
            "image/png": "[encoded data removed]"
          },
          "metadata": {}
        },
        {
          "output_type": "execute_result",
          "data": {
            "text/plain": [
              "emotion\n",
              "negative    39\n",
              "neutral     51\n",
              "positive    52\n",
              "Name: text, dtype: int64"
            ],
            "text/html": [
              "<div>\n",
              "<style scoped>\n",
              "    .dataframe tbody tr th:only-of-type {\n",
              "        vertical-align: middle;\n",
              "    }\n",
              "\n",
              "    .dataframe tbody tr th {\n",
              "        vertical-align: top;\n",
              "    }\n",
              "\n",
              "    .dataframe thead th {\n",
              "        text-align: right;\n",
              "    }\n",
              "</style>\n",
              "<table border=\"1\" class=\"dataframe\">\n",
              "  <thead>\n",
              "    <tr style=\"text-align: right;\">\n",
              "      <th></th>\n",
              "      <th>text</th>\n",
              "    </tr>\n",
              "    <tr>\n",
              "      <th>emotion</th>\n",
              "      <th></th>\n",
              "    </tr>\n",
              "  </thead>\n",
              "  <tbody>\n",
              "    <tr>\n",
              "      <th>negative</th>\n",
              "      <td>39</td>\n",
              "    </tr>\n",
              "    <tr>\n",
              "      <th>neutral</th>\n",
              "      <td>51</td>\n",
              "    </tr>\n",
              "    <tr>\n",
              "      <th>positive</th>\n",
              "      <td>52</td>\n",
              "    </tr>\n",
              "  </tbody>\n",
              "</table>\n",
              "</div><br><label><b>dtype:</b> int64</label>"
            ]
          },
          "metadata": {},
          "execution_count": 300
        }
      ]
    }
  ]
}