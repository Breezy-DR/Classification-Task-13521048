{
  "nbformat": 4,
  "nbformat_minor": 0,
  "metadata": {
    "colab": {
      "provenance": []
    },
    "kernelspec": {
      "name": "python3",
      "display_name": "Python 3"
    },
    "language_info": {
      "name": "python"
    }
  },
  "cells": [
    {
      "cell_type": "markdown",
      "source": [
        "# Import Libraries"
      ],
      "metadata": {
        "id": "TpzxnIlER2r3"
      }
    },
    {
      "cell_type": "code",
      "execution_count": null,
      "metadata": {
        "id": "lBf9XtLOPtDF"
      },
      "outputs": [],
      "source": [
        "import pandas as pd\n",
        "import numpy as np\n",
        "from sklearn.feature_extraction.text import CountVectorizer\n",
        "from sklearn.model_selection import GridSearchCV\n",
        "from sklearn.svm import SVC\n",
        "from sklearn.metrics import accuracy_score, precision_score, recall_score, f1_score, classification_report\n",
        "import re\n",
        "import matplotlib.pyplot as plt\n",
        "import warnings\n",
        "warnings.filterwarnings(\"ignore\", category=FutureWarning)"
      ]
    },
    {
      "cell_type": "markdown",
      "source": [
        "# Import The Dataset"
      ],
      "metadata": {
        "id": "wyi6MSOKSEeQ"
      }
    },
    {
      "cell_type": "markdown",
      "source": [
        "The data processed contains the the training data, validation data, and test data (with unmasked and masked label) that has been preprocessed. However, later on, we will further preprocess the code to increase the accuracy."
      ],
      "metadata": {
        "id": "OuiWGCp9SKwQ"
      }
    },
    {
      "cell_type": "code",
      "source": [
        "from google.colab import drive\n",
        "drive.mount('/content/drive')"
      ],
      "metadata": {
        "colab": {
          "base_uri": "https://localhost:8080/"
        },
        "id": "y2A_ZtN5S5u_",
        "outputId": "e969ec6d-a740-4e0e-9e4a-2a2c41dfb022"
      },
      "execution_count": null,
      "outputs": [
        {
          "output_type": "stream",
          "name": "stdout",
          "text": [
            "Mounted at /content/drive\n"
          ]
        }
      ]
    },
    {
      "cell_type": "code",
      "source": [
        "df_train = pd.read_csv(\"drive/MyDrive/sentiment-prosa/train_preprocess.tsv\", sep='\\t', header=None)\n",
        "df_valid = pd.read_csv(\"drive/MyDrive/sentiment-prosa/valid_preprocess.tsv\", sep='\\t', header=None)\n",
        "df_test_unmasked = pd.read_csv(\"drive/MyDrive/sentiment-prosa/test_preprocess.tsv\", sep='\\t', header=None)\n",
        "df_test_masked = pd.read_csv(\"drive/MyDrive/sentiment-prosa/test_preprocess_masked_label.tsv\", sep='\\t', header=None)"
      ],
      "metadata": {
        "id": "WSeQ8j9DbVE6"
      },
      "execution_count": null,
      "outputs": []
    },
    {
      "cell_type": "markdown",
      "source": [
        "Open the vocabulary document"
      ],
      "metadata": {
        "id": "6i4jcKM5xRUT"
      }
    },
    {
      "cell_type": "code",
      "source": [
        "with open('drive/MyDrive/sentiment-prosa/vocab_uncased.txt', 'r') as f:\n",
        "    vocab = f.read().splitlines()"
      ],
      "metadata": {
        "id": "uAUJPijtxU-w"
      },
      "execution_count": null,
      "outputs": []
    },
    {
      "cell_type": "code",
      "source": [
        "df_train.columns = [\"text\", \"emotion\"]\n",
        "df_valid.columns = [\"text\", \"emotion\"]\n",
        "df_test_unmasked.columns = [\"text\", \"emotion\"]\n",
        "df_test_masked.columns = [\"text\", \"emotion\"]\n",
        "\n",
        "df_train.head(10)"
      ],
      "metadata": {
        "colab": {
          "base_uri": "https://localhost:8080/",
          "height": 363
        },
        "collapsed": true,
        "id": "hDc2N0XJb-3-",
        "outputId": "f5e48dbf-88fd-4777-ba95-2adbaabf4ac7"
      },
      "execution_count": null,
      "outputs": [
        {
          "output_type": "execute_result",
          "data": {
            "text/plain": [
              "                                                text   emotion\n",
              "0  warung ini dimiliki oleh pengusaha pabrik tahu...  positive\n",
              "1  mohon ulama lurus dan k212 mmbri hujjah partai...   neutral\n",
              "2  lokasi strategis di jalan sumatera bandung . t...  positive\n",
              "3  betapa bahagia nya diri ini saat unboxing pake...  positive\n",
              "4  duh . jadi mahasiswa jangan sombong dong . kas...  negative\n",
              "5  makanan beragam , harga makanan di food stall ...  positive\n",
              "6  pakai kartu kredit bca tidak untung malah rugi...  negative\n",
              "7  tempat unik , bagus buat foto , makanan enak ,...  positive\n",
              "8  saya bersama keluarga baru saja menikmati peng...  positive\n",
              "9                                          bersyukur  positive"
            ],
            "text/html": [
              "\n",
              "  <div id=\"df-c6426488-caf4-42dd-b23f-84989bcc6ba4\" class=\"colab-df-container\">\n",
              "    <div>\n",
              "<style scoped>\n",
              "    .dataframe tbody tr th:only-of-type {\n",
              "        vertical-align: middle;\n",
              "    }\n",
              "\n",
              "    .dataframe tbody tr th {\n",
              "        vertical-align: top;\n",
              "    }\n",
              "\n",
              "    .dataframe thead th {\n",
              "        text-align: right;\n",
              "    }\n",
              "</style>\n",
              "<table border=\"1\" class=\"dataframe\">\n",
              "  <thead>\n",
              "    <tr style=\"text-align: right;\">\n",
              "      <th></th>\n",
              "      <th>text</th>\n",
              "      <th>emotion</th>\n",
              "    </tr>\n",
              "  </thead>\n",
              "  <tbody>\n",
              "    <tr>\n",
              "      <th>0</th>\n",
              "      <td>warung ini dimiliki oleh pengusaha pabrik tahu...</td>\n",
              "      <td>positive</td>\n",
              "    </tr>\n",
              "    <tr>\n",
              "      <th>1</th>\n",
              "      <td>mohon ulama lurus dan k212 mmbri hujjah partai...</td>\n",
              "      <td>neutral</td>\n",
              "    </tr>\n",
              "    <tr>\n",
              "      <th>2</th>\n",
              "      <td>lokasi strategis di jalan sumatera bandung . t...</td>\n",
              "      <td>positive</td>\n",
              "    </tr>\n",
              "    <tr>\n",
              "      <th>3</th>\n",
              "      <td>betapa bahagia nya diri ini saat unboxing pake...</td>\n",
              "      <td>positive</td>\n",
              "    </tr>\n",
              "    <tr>\n",
              "      <th>4</th>\n",
              "      <td>duh . jadi mahasiswa jangan sombong dong . kas...</td>\n",
              "      <td>negative</td>\n",
              "    </tr>\n",
              "    <tr>\n",
              "      <th>5</th>\n",
              "      <td>makanan beragam , harga makanan di food stall ...</td>\n",
              "      <td>positive</td>\n",
              "    </tr>\n",
              "    <tr>\n",
              "      <th>6</th>\n",
              "      <td>pakai kartu kredit bca tidak untung malah rugi...</td>\n",
              "      <td>negative</td>\n",
              "    </tr>\n",
              "    <tr>\n",
              "      <th>7</th>\n",
              "      <td>tempat unik , bagus buat foto , makanan enak ,...</td>\n",
              "      <td>positive</td>\n",
              "    </tr>\n",
              "    <tr>\n",
              "      <th>8</th>\n",
              "      <td>saya bersama keluarga baru saja menikmati peng...</td>\n",
              "      <td>positive</td>\n",
              "    </tr>\n",
              "    <tr>\n",
              "      <th>9</th>\n",
              "      <td>bersyukur</td>\n",
              "      <td>positive</td>\n",
              "    </tr>\n",
              "  </tbody>\n",
              "</table>\n",
              "</div>\n",
              "    <div class=\"colab-df-buttons\">\n",
              "\n",
              "  <div class=\"colab-df-container\">\n",
              "    <button class=\"colab-df-convert\" onclick=\"convertToInteractive('df-c6426488-caf4-42dd-b23f-84989bcc6ba4')\"\n",
              "            title=\"Convert this dataframe to an interactive table.\"\n",
              "            style=\"display:none;\">\n",
              "\n",
              "  <svg xmlns=\"http://www.w3.org/2000/svg\" height=\"24px\" viewBox=\"0 -960 960 960\">\n",
              "    <path d=\"M120-120v-720h720v720H120Zm60-500h600v-160H180v160Zm220 220h160v-160H400v160Zm0 220h160v-160H400v160ZM180-400h160v-160H180v160Zm440 0h160v-160H620v160ZM180-180h160v-160H180v160Zm440 0h160v-160H620v160Z\"/>\n",
              "  </svg>\n",
              "    </button>\n",
              "\n",
              "  <style>\n",
              "    .colab-df-container {\n",
              "      display:flex;\n",
              "      gap: 12px;\n",
              "    }\n",
              "\n",
              "    .colab-df-convert {\n",
              "      background-color: #E8F0FE;\n",
              "      border: none;\n",
              "      border-radius: 50%;\n",
              "      cursor: pointer;\n",
              "      display: none;\n",
              "      fill: #1967D2;\n",
              "      height: 32px;\n",
              "      padding: 0 0 0 0;\n",
              "      width: 32px;\n",
              "    }\n",
              "\n",
              "    .colab-df-convert:hover {\n",
              "      background-color: #E2EBFA;\n",
              "      box-shadow: 0px 1px 2px rgba(60, 64, 67, 0.3), 0px 1px 3px 1px rgba(60, 64, 67, 0.15);\n",
              "      fill: #174EA6;\n",
              "    }\n",
              "\n",
              "    .colab-df-buttons div {\n",
              "      margin-bottom: 4px;\n",
              "    }\n",
              "\n",
              "    [theme=dark] .colab-df-convert {\n",
              "      background-color: #3B4455;\n",
              "      fill: #D2E3FC;\n",
              "    }\n",
              "\n",
              "    [theme=dark] .colab-df-convert:hover {\n",
              "      background-color: #434B5C;\n",
              "      box-shadow: 0px 1px 3px 1px rgba(0, 0, 0, 0.15);\n",
              "      filter: drop-shadow(0px 1px 2px rgba(0, 0, 0, 0.3));\n",
              "      fill: #FFFFFF;\n",
              "    }\n",
              "  </style>\n",
              "\n",
              "    <script>\n",
              "      const buttonEl =\n",
              "        document.querySelector('#df-c6426488-caf4-42dd-b23f-84989bcc6ba4 button.colab-df-convert');\n",
              "      buttonEl.style.display =\n",
              "        google.colab.kernel.accessAllowed ? 'block' : 'none';\n",
              "\n",
              "      async function convertToInteractive(key) {\n",
              "        const element = document.querySelector('#df-c6426488-caf4-42dd-b23f-84989bcc6ba4');\n",
              "        const dataTable =\n",
              "          await google.colab.kernel.invokeFunction('convertToInteractive',\n",
              "                                                    [key], {});\n",
              "        if (!dataTable) return;\n",
              "\n",
              "        const docLinkHtml = 'Like what you see? Visit the ' +\n",
              "          '<a target=\"_blank\" href=https://colab.research.google.com/notebooks/data_table.ipynb>data table notebook</a>'\n",
              "          + ' to learn more about interactive tables.';\n",
              "        element.innerHTML = '';\n",
              "        dataTable['output_type'] = 'display_data';\n",
              "        await google.colab.output.renderOutput(dataTable, element);\n",
              "        const docLink = document.createElement('div');\n",
              "        docLink.innerHTML = docLinkHtml;\n",
              "        element.appendChild(docLink);\n",
              "      }\n",
              "    </script>\n",
              "  </div>\n",
              "\n",
              "\n",
              "<div id=\"df-97fbddc7-8b31-4484-90f9-a5bb4b3491b6\">\n",
              "  <button class=\"colab-df-quickchart\" onclick=\"quickchart('df-97fbddc7-8b31-4484-90f9-a5bb4b3491b6')\"\n",
              "            title=\"Suggest charts\"\n",
              "            style=\"display:none;\">\n",
              "\n",
              "<svg xmlns=\"http://www.w3.org/2000/svg\" height=\"24px\"viewBox=\"0 0 24 24\"\n",
              "     width=\"24px\">\n",
              "    <g>\n",
              "        <path d=\"M19 3H5c-1.1 0-2 .9-2 2v14c0 1.1.9 2 2 2h14c1.1 0 2-.9 2-2V5c0-1.1-.9-2-2-2zM9 17H7v-7h2v7zm4 0h-2V7h2v10zm4 0h-2v-4h2v4z\"/>\n",
              "    </g>\n",
              "</svg>\n",
              "  </button>\n",
              "\n",
              "<style>\n",
              "  .colab-df-quickchart {\n",
              "      --bg-color: #E8F0FE;\n",
              "      --fill-color: #1967D2;\n",
              "      --hover-bg-color: #E2EBFA;\n",
              "      --hover-fill-color: #174EA6;\n",
              "      --disabled-fill-color: #AAA;\n",
              "      --disabled-bg-color: #DDD;\n",
              "  }\n",
              "\n",
              "  [theme=dark] .colab-df-quickchart {\n",
              "      --bg-color: #3B4455;\n",
              "      --fill-color: #D2E3FC;\n",
              "      --hover-bg-color: #434B5C;\n",
              "      --hover-fill-color: #FFFFFF;\n",
              "      --disabled-bg-color: #3B4455;\n",
              "      --disabled-fill-color: #666;\n",
              "  }\n",
              "\n",
              "  .colab-df-quickchart {\n",
              "    background-color: var(--bg-color);\n",
              "    border: none;\n",
              "    border-radius: 50%;\n",
              "    cursor: pointer;\n",
              "    display: none;\n",
              "    fill: var(--fill-color);\n",
              "    height: 32px;\n",
              "    padding: 0;\n",
              "    width: 32px;\n",
              "  }\n",
              "\n",
              "  .colab-df-quickchart:hover {\n",
              "    background-color: var(--hover-bg-color);\n",
              "    box-shadow: 0 1px 2px rgba(60, 64, 67, 0.3), 0 1px 3px 1px rgba(60, 64, 67, 0.15);\n",
              "    fill: var(--button-hover-fill-color);\n",
              "  }\n",
              "\n",
              "  .colab-df-quickchart-complete:disabled,\n",
              "  .colab-df-quickchart-complete:disabled:hover {\n",
              "    background-color: var(--disabled-bg-color);\n",
              "    fill: var(--disabled-fill-color);\n",
              "    box-shadow: none;\n",
              "  }\n",
              "\n",
              "  .colab-df-spinner {\n",
              "    border: 2px solid var(--fill-color);\n",
              "    border-color: transparent;\n",
              "    border-bottom-color: var(--fill-color);\n",
              "    animation:\n",
              "      spin 1s steps(1) infinite;\n",
              "  }\n",
              "\n",
              "  @keyframes spin {\n",
              "    0% {\n",
              "      border-color: transparent;\n",
              "      border-bottom-color: var(--fill-color);\n",
              "      border-left-color: var(--fill-color);\n",
              "    }\n",
              "    20% {\n",
              "      border-color: transparent;\n",
              "      border-left-color: var(--fill-color);\n",
              "      border-top-color: var(--fill-color);\n",
              "    }\n",
              "    30% {\n",
              "      border-color: transparent;\n",
              "      border-left-color: var(--fill-color);\n",
              "      border-top-color: var(--fill-color);\n",
              "      border-right-color: var(--fill-color);\n",
              "    }\n",
              "    40% {\n",
              "      border-color: transparent;\n",
              "      border-right-color: var(--fill-color);\n",
              "      border-top-color: var(--fill-color);\n",
              "    }\n",
              "    60% {\n",
              "      border-color: transparent;\n",
              "      border-right-color: var(--fill-color);\n",
              "    }\n",
              "    80% {\n",
              "      border-color: transparent;\n",
              "      border-right-color: var(--fill-color);\n",
              "      border-bottom-color: var(--fill-color);\n",
              "    }\n",
              "    90% {\n",
              "      border-color: transparent;\n",
              "      border-bottom-color: var(--fill-color);\n",
              "    }\n",
              "  }\n",
              "</style>\n",
              "\n",
              "  <script>\n",
              "    async function quickchart(key) {\n",
              "      const quickchartButtonEl =\n",
              "        document.querySelector('#' + key + ' button');\n",
              "      quickchartButtonEl.disabled = true;  // To prevent multiple clicks.\n",
              "      quickchartButtonEl.classList.add('colab-df-spinner');\n",
              "      try {\n",
              "        const charts = await google.colab.kernel.invokeFunction(\n",
              "            'suggestCharts', [key], {});\n",
              "      } catch (error) {\n",
              "        console.error('Error during call to suggestCharts:', error);\n",
              "      }\n",
              "      quickchartButtonEl.classList.remove('colab-df-spinner');\n",
              "      quickchartButtonEl.classList.add('colab-df-quickchart-complete');\n",
              "    }\n",
              "    (() => {\n",
              "      let quickchartButtonEl =\n",
              "        document.querySelector('#df-97fbddc7-8b31-4484-90f9-a5bb4b3491b6 button');\n",
              "      quickchartButtonEl.style.display =\n",
              "        google.colab.kernel.accessAllowed ? 'block' : 'none';\n",
              "    })();\n",
              "  </script>\n",
              "</div>\n",
              "\n",
              "    </div>\n",
              "  </div>\n"
            ],
            "application/vnd.google.colaboratory.intrinsic+json": {
              "type": "dataframe",
              "variable_name": "df_train",
              "summary": "{\n  \"name\": \"df_train\",\n  \"rows\": 11000,\n  \"fields\": [\n    {\n      \"column\": \"text\",\n      \"properties\": {\n        \"dtype\": \"string\",\n        \"num_unique_values\": 10933,\n        \"samples\": [\n          \"ikan laut di aceh masih mahal\",\n          \"pizza sama coffie nya enak , harga nya juga murah banget hehehe sewaktu ke sini dulu waktu hujan jadi bisa sambil santai lama sekali :\",\n          \"kalau mau merasakan roti zaman dahulu , ini salah satu tempat nya . buka nya hanya sampai sore , jadi kalau pulang kantor kadang tidak keburu ke sini\"\n        ],\n        \"semantic_type\": \"\",\n        \"description\": \"\"\n      }\n    },\n    {\n      \"column\": \"emotion\",\n      \"properties\": {\n        \"dtype\": \"category\",\n        \"num_unique_values\": 3,\n        \"samples\": [\n          \"positive\",\n          \"neutral\",\n          \"negative\"\n        ],\n        \"semantic_type\": \"\",\n        \"description\": \"\"\n      }\n    }\n  ]\n}"
            }
          },
          "metadata": {},
          "execution_count": 5
        }
      ]
    },
    {
      "cell_type": "markdown",
      "source": [
        "# Pre-processing"
      ],
      "metadata": {
        "id": "s5Ido7FReY6D"
      }
    },
    {
      "cell_type": "markdown",
      "source": [
        "## Remove punctuation and numbers"
      ],
      "metadata": {
        "id": "AyXNo0x3eacX"
      }
    },
    {
      "cell_type": "code",
      "source": [
        "def remove_punctuation(text):\n",
        "    return re.sub('[^a-zA-Z]', ' ', text)"
      ],
      "metadata": {
        "id": "xKZEPC6YecDL"
      },
      "execution_count": null,
      "outputs": []
    },
    {
      "cell_type": "code",
      "source": [
        "df_train['text'] = df_train['text'].apply(remove_punctuation)\n",
        "df_valid['text'] = df_valid['text'].apply(remove_punctuation)\n",
        "df_test_unmasked['text'] = df_test_unmasked['text'].apply(remove_punctuation)\n",
        "df_test_masked['text'] = df_test_masked['text'].apply(remove_punctuation)\n",
        "\n",
        "vocab_filtered = []\n",
        "\n",
        "for word in vocab:\n",
        "  word_filtered = remove_punctuation(word)\n",
        "  vocab_filtered.append(word_filtered)\n",
        "\n"
      ],
      "metadata": {
        "id": "oFntPDQwedoi"
      },
      "execution_count": null,
      "outputs": []
    },
    {
      "cell_type": "code",
      "source": [
        "df_train.head(10)"
      ],
      "metadata": {
        "colab": {
          "base_uri": "https://localhost:8080/",
          "height": 363
        },
        "id": "uLqgitG61lCi",
        "outputId": "6bd28423-2ce0-4c5d-b1d2-bef146d587dd"
      },
      "execution_count": null,
      "outputs": [
        {
          "output_type": "execute_result",
          "data": {
            "text/plain": [
              "                                                text   emotion\n",
              "0  warung ini dimiliki oleh pengusaha pabrik tahu...  positive\n",
              "1  mohon ulama lurus dan k    mmbri hujjah partai...   neutral\n",
              "2  lokasi strategis di jalan sumatera bandung   t...  positive\n",
              "3  betapa bahagia nya diri ini saat unboxing pake...  positive\n",
              "4  duh   jadi mahasiswa jangan sombong dong   kas...  negative\n",
              "5  makanan beragam   harga makanan di food stall ...  positive\n",
              "6  pakai kartu kredit bca tidak untung malah rugi...  negative\n",
              "7  tempat unik   bagus buat foto   makanan enak  ...  positive\n",
              "8  saya bersama keluarga baru saja menikmati peng...  positive\n",
              "9                                          bersyukur  positive"
            ],
            "text/html": [
              "\n",
              "  <div id=\"df-b81597cc-fb43-4221-a68d-a5d84681ba47\" class=\"colab-df-container\">\n",
              "    <div>\n",
              "<style scoped>\n",
              "    .dataframe tbody tr th:only-of-type {\n",
              "        vertical-align: middle;\n",
              "    }\n",
              "\n",
              "    .dataframe tbody tr th {\n",
              "        vertical-align: top;\n",
              "    }\n",
              "\n",
              "    .dataframe thead th {\n",
              "        text-align: right;\n",
              "    }\n",
              "</style>\n",
              "<table border=\"1\" class=\"dataframe\">\n",
              "  <thead>\n",
              "    <tr style=\"text-align: right;\">\n",
              "      <th></th>\n",
              "      <th>text</th>\n",
              "      <th>emotion</th>\n",
              "    </tr>\n",
              "  </thead>\n",
              "  <tbody>\n",
              "    <tr>\n",
              "      <th>0</th>\n",
              "      <td>warung ini dimiliki oleh pengusaha pabrik tahu...</td>\n",
              "      <td>positive</td>\n",
              "    </tr>\n",
              "    <tr>\n",
              "      <th>1</th>\n",
              "      <td>mohon ulama lurus dan k    mmbri hujjah partai...</td>\n",
              "      <td>neutral</td>\n",
              "    </tr>\n",
              "    <tr>\n",
              "      <th>2</th>\n",
              "      <td>lokasi strategis di jalan sumatera bandung   t...</td>\n",
              "      <td>positive</td>\n",
              "    </tr>\n",
              "    <tr>\n",
              "      <th>3</th>\n",
              "      <td>betapa bahagia nya diri ini saat unboxing pake...</td>\n",
              "      <td>positive</td>\n",
              "    </tr>\n",
              "    <tr>\n",
              "      <th>4</th>\n",
              "      <td>duh   jadi mahasiswa jangan sombong dong   kas...</td>\n",
              "      <td>negative</td>\n",
              "    </tr>\n",
              "    <tr>\n",
              "      <th>5</th>\n",
              "      <td>makanan beragam   harga makanan di food stall ...</td>\n",
              "      <td>positive</td>\n",
              "    </tr>\n",
              "    <tr>\n",
              "      <th>6</th>\n",
              "      <td>pakai kartu kredit bca tidak untung malah rugi...</td>\n",
              "      <td>negative</td>\n",
              "    </tr>\n",
              "    <tr>\n",
              "      <th>7</th>\n",
              "      <td>tempat unik   bagus buat foto   makanan enak  ...</td>\n",
              "      <td>positive</td>\n",
              "    </tr>\n",
              "    <tr>\n",
              "      <th>8</th>\n",
              "      <td>saya bersama keluarga baru saja menikmati peng...</td>\n",
              "      <td>positive</td>\n",
              "    </tr>\n",
              "    <tr>\n",
              "      <th>9</th>\n",
              "      <td>bersyukur</td>\n",
              "      <td>positive</td>\n",
              "    </tr>\n",
              "  </tbody>\n",
              "</table>\n",
              "</div>\n",
              "    <div class=\"colab-df-buttons\">\n",
              "\n",
              "  <div class=\"colab-df-container\">\n",
              "    <button class=\"colab-df-convert\" onclick=\"convertToInteractive('df-b81597cc-fb43-4221-a68d-a5d84681ba47')\"\n",
              "            title=\"Convert this dataframe to an interactive table.\"\n",
              "            style=\"display:none;\">\n",
              "\n",
              "  <svg xmlns=\"http://www.w3.org/2000/svg\" height=\"24px\" viewBox=\"0 -960 960 960\">\n",
              "    <path d=\"M120-120v-720h720v720H120Zm60-500h600v-160H180v160Zm220 220h160v-160H400v160Zm0 220h160v-160H400v160ZM180-400h160v-160H180v160Zm440 0h160v-160H620v160ZM180-180h160v-160H180v160Zm440 0h160v-160H620v160Z\"/>\n",
              "  </svg>\n",
              "    </button>\n",
              "\n",
              "  <style>\n",
              "    .colab-df-container {\n",
              "      display:flex;\n",
              "      gap: 12px;\n",
              "    }\n",
              "\n",
              "    .colab-df-convert {\n",
              "      background-color: #E8F0FE;\n",
              "      border: none;\n",
              "      border-radius: 50%;\n",
              "      cursor: pointer;\n",
              "      display: none;\n",
              "      fill: #1967D2;\n",
              "      height: 32px;\n",
              "      padding: 0 0 0 0;\n",
              "      width: 32px;\n",
              "    }\n",
              "\n",
              "    .colab-df-convert:hover {\n",
              "      background-color: #E2EBFA;\n",
              "      box-shadow: 0px 1px 2px rgba(60, 64, 67, 0.3), 0px 1px 3px 1px rgba(60, 64, 67, 0.15);\n",
              "      fill: #174EA6;\n",
              "    }\n",
              "\n",
              "    .colab-df-buttons div {\n",
              "      margin-bottom: 4px;\n",
              "    }\n",
              "\n",
              "    [theme=dark] .colab-df-convert {\n",
              "      background-color: #3B4455;\n",
              "      fill: #D2E3FC;\n",
              "    }\n",
              "\n",
              "    [theme=dark] .colab-df-convert:hover {\n",
              "      background-color: #434B5C;\n",
              "      box-shadow: 0px 1px 3px 1px rgba(0, 0, 0, 0.15);\n",
              "      filter: drop-shadow(0px 1px 2px rgba(0, 0, 0, 0.3));\n",
              "      fill: #FFFFFF;\n",
              "    }\n",
              "  </style>\n",
              "\n",
              "    <script>\n",
              "      const buttonEl =\n",
              "        document.querySelector('#df-b81597cc-fb43-4221-a68d-a5d84681ba47 button.colab-df-convert');\n",
              "      buttonEl.style.display =\n",
              "        google.colab.kernel.accessAllowed ? 'block' : 'none';\n",
              "\n",
              "      async function convertToInteractive(key) {\n",
              "        const element = document.querySelector('#df-b81597cc-fb43-4221-a68d-a5d84681ba47');\n",
              "        const dataTable =\n",
              "          await google.colab.kernel.invokeFunction('convertToInteractive',\n",
              "                                                    [key], {});\n",
              "        if (!dataTable) return;\n",
              "\n",
              "        const docLinkHtml = 'Like what you see? Visit the ' +\n",
              "          '<a target=\"_blank\" href=https://colab.research.google.com/notebooks/data_table.ipynb>data table notebook</a>'\n",
              "          + ' to learn more about interactive tables.';\n",
              "        element.innerHTML = '';\n",
              "        dataTable['output_type'] = 'display_data';\n",
              "        await google.colab.output.renderOutput(dataTable, element);\n",
              "        const docLink = document.createElement('div');\n",
              "        docLink.innerHTML = docLinkHtml;\n",
              "        element.appendChild(docLink);\n",
              "      }\n",
              "    </script>\n",
              "  </div>\n",
              "\n",
              "\n",
              "<div id=\"df-492c4f9c-167d-45c0-a2f6-16320ed92d4a\">\n",
              "  <button class=\"colab-df-quickchart\" onclick=\"quickchart('df-492c4f9c-167d-45c0-a2f6-16320ed92d4a')\"\n",
              "            title=\"Suggest charts\"\n",
              "            style=\"display:none;\">\n",
              "\n",
              "<svg xmlns=\"http://www.w3.org/2000/svg\" height=\"24px\"viewBox=\"0 0 24 24\"\n",
              "     width=\"24px\">\n",
              "    <g>\n",
              "        <path d=\"M19 3H5c-1.1 0-2 .9-2 2v14c0 1.1.9 2 2 2h14c1.1 0 2-.9 2-2V5c0-1.1-.9-2-2-2zM9 17H7v-7h2v7zm4 0h-2V7h2v10zm4 0h-2v-4h2v4z\"/>\n",
              "    </g>\n",
              "</svg>\n",
              "  </button>\n",
              "\n",
              "<style>\n",
              "  .colab-df-quickchart {\n",
              "      --bg-color: #E8F0FE;\n",
              "      --fill-color: #1967D2;\n",
              "      --hover-bg-color: #E2EBFA;\n",
              "      --hover-fill-color: #174EA6;\n",
              "      --disabled-fill-color: #AAA;\n",
              "      --disabled-bg-color: #DDD;\n",
              "  }\n",
              "\n",
              "  [theme=dark] .colab-df-quickchart {\n",
              "      --bg-color: #3B4455;\n",
              "      --fill-color: #D2E3FC;\n",
              "      --hover-bg-color: #434B5C;\n",
              "      --hover-fill-color: #FFFFFF;\n",
              "      --disabled-bg-color: #3B4455;\n",
              "      --disabled-fill-color: #666;\n",
              "  }\n",
              "\n",
              "  .colab-df-quickchart {\n",
              "    background-color: var(--bg-color);\n",
              "    border: none;\n",
              "    border-radius: 50%;\n",
              "    cursor: pointer;\n",
              "    display: none;\n",
              "    fill: var(--fill-color);\n",
              "    height: 32px;\n",
              "    padding: 0;\n",
              "    width: 32px;\n",
              "  }\n",
              "\n",
              "  .colab-df-quickchart:hover {\n",
              "    background-color: var(--hover-bg-color);\n",
              "    box-shadow: 0 1px 2px rgba(60, 64, 67, 0.3), 0 1px 3px 1px rgba(60, 64, 67, 0.15);\n",
              "    fill: var(--button-hover-fill-color);\n",
              "  }\n",
              "\n",
              "  .colab-df-quickchart-complete:disabled,\n",
              "  .colab-df-quickchart-complete:disabled:hover {\n",
              "    background-color: var(--disabled-bg-color);\n",
              "    fill: var(--disabled-fill-color);\n",
              "    box-shadow: none;\n",
              "  }\n",
              "\n",
              "  .colab-df-spinner {\n",
              "    border: 2px solid var(--fill-color);\n",
              "    border-color: transparent;\n",
              "    border-bottom-color: var(--fill-color);\n",
              "    animation:\n",
              "      spin 1s steps(1) infinite;\n",
              "  }\n",
              "\n",
              "  @keyframes spin {\n",
              "    0% {\n",
              "      border-color: transparent;\n",
              "      border-bottom-color: var(--fill-color);\n",
              "      border-left-color: var(--fill-color);\n",
              "    }\n",
              "    20% {\n",
              "      border-color: transparent;\n",
              "      border-left-color: var(--fill-color);\n",
              "      border-top-color: var(--fill-color);\n",
              "    }\n",
              "    30% {\n",
              "      border-color: transparent;\n",
              "      border-left-color: var(--fill-color);\n",
              "      border-top-color: var(--fill-color);\n",
              "      border-right-color: var(--fill-color);\n",
              "    }\n",
              "    40% {\n",
              "      border-color: transparent;\n",
              "      border-right-color: var(--fill-color);\n",
              "      border-top-color: var(--fill-color);\n",
              "    }\n",
              "    60% {\n",
              "      border-color: transparent;\n",
              "      border-right-color: var(--fill-color);\n",
              "    }\n",
              "    80% {\n",
              "      border-color: transparent;\n",
              "      border-right-color: var(--fill-color);\n",
              "      border-bottom-color: var(--fill-color);\n",
              "    }\n",
              "    90% {\n",
              "      border-color: transparent;\n",
              "      border-bottom-color: var(--fill-color);\n",
              "    }\n",
              "  }\n",
              "</style>\n",
              "\n",
              "  <script>\n",
              "    async function quickchart(key) {\n",
              "      const quickchartButtonEl =\n",
              "        document.querySelector('#' + key + ' button');\n",
              "      quickchartButtonEl.disabled = true;  // To prevent multiple clicks.\n",
              "      quickchartButtonEl.classList.add('colab-df-spinner');\n",
              "      try {\n",
              "        const charts = await google.colab.kernel.invokeFunction(\n",
              "            'suggestCharts', [key], {});\n",
              "      } catch (error) {\n",
              "        console.error('Error during call to suggestCharts:', error);\n",
              "      }\n",
              "      quickchartButtonEl.classList.remove('colab-df-spinner');\n",
              "      quickchartButtonEl.classList.add('colab-df-quickchart-complete');\n",
              "    }\n",
              "    (() => {\n",
              "      let quickchartButtonEl =\n",
              "        document.querySelector('#df-492c4f9c-167d-45c0-a2f6-16320ed92d4a button');\n",
              "      quickchartButtonEl.style.display =\n",
              "        google.colab.kernel.accessAllowed ? 'block' : 'none';\n",
              "    })();\n",
              "  </script>\n",
              "</div>\n",
              "\n",
              "    </div>\n",
              "  </div>\n"
            ],
            "application/vnd.google.colaboratory.intrinsic+json": {
              "type": "dataframe",
              "variable_name": "df_train",
              "summary": "{\n  \"name\": \"df_train\",\n  \"rows\": 11000,\n  \"fields\": [\n    {\n      \"column\": \"text\",\n      \"properties\": {\n        \"dtype\": \"string\",\n        \"num_unique_values\": 10932,\n        \"samples\": [\n          \"ikan laut di aceh masih mahal\",\n          \"pizza sama coffie nya enak   harga nya juga murah banget hehehe sewaktu ke sini dulu waktu hujan jadi bisa sambil santai lama sekali  \",\n          \"kalau mau merasakan roti zaman dahulu   ini salah satu tempat nya   buka nya hanya sampai sore   jadi kalau pulang kantor kadang tidak keburu ke sini\"\n        ],\n        \"semantic_type\": \"\",\n        \"description\": \"\"\n      }\n    },\n    {\n      \"column\": \"emotion\",\n      \"properties\": {\n        \"dtype\": \"category\",\n        \"num_unique_values\": 3,\n        \"samples\": [\n          \"positive\",\n          \"neutral\",\n          \"negative\"\n        ],\n        \"semantic_type\": \"\",\n        \"description\": \"\"\n      }\n    }\n  ]\n}"
            }
          },
          "metadata": {},
          "execution_count": 8
        }
      ]
    },
    {
      "cell_type": "code",
      "source": [
        "df_test_unmasked.head(10)"
      ],
      "metadata": {
        "colab": {
          "base_uri": "https://localhost:8080/",
          "height": 363
        },
        "id": "RCn3vsrn1nj8",
        "outputId": "bde083d6-bd73-4180-a5aa-83848b84cf18"
      },
      "execution_count": null,
      "outputs": [
        {
          "output_type": "execute_result",
          "data": {
            "text/plain": [
              "                                                text   emotion\n",
              "0  kemarin gue datang ke tempat makan baru yang a...  negative\n",
              "1  kayak nya sih gue tidak akan mau balik lagi ke...  negative\n",
              "2  kalau dipikir pikir   sebenarnya tidak ada yan...  negative\n",
              "3  ini pertama kalinya gua ke bank buat ngurusin ...  negative\n",
              "4  waktu sampai dengan gue pernah disuruh ibu lat...  negative\n",
              "5  pelayanan di hotel salak bogor tidak sebagus y...  negative\n",
              "6  ada apa dengan young lex   kenapa dia harus me...  negative\n",
              "7  gue pesimis sama manusia   terutama dalam ngur...  negative\n",
              "8  saya kecewa karena pengeditan biodata penumpan...  negative\n",
              "9  saya hari ini melakukan pemesanan dan tiket sa...  negative"
            ],
            "text/html": [
              "\n",
              "  <div id=\"df-aba5e390-1906-4670-9d6b-ab75cf5df42f\" class=\"colab-df-container\">\n",
              "    <div>\n",
              "<style scoped>\n",
              "    .dataframe tbody tr th:only-of-type {\n",
              "        vertical-align: middle;\n",
              "    }\n",
              "\n",
              "    .dataframe tbody tr th {\n",
              "        vertical-align: top;\n",
              "    }\n",
              "\n",
              "    .dataframe thead th {\n",
              "        text-align: right;\n",
              "    }\n",
              "</style>\n",
              "<table border=\"1\" class=\"dataframe\">\n",
              "  <thead>\n",
              "    <tr style=\"text-align: right;\">\n",
              "      <th></th>\n",
              "      <th>text</th>\n",
              "      <th>emotion</th>\n",
              "    </tr>\n",
              "  </thead>\n",
              "  <tbody>\n",
              "    <tr>\n",
              "      <th>0</th>\n",
              "      <td>kemarin gue datang ke tempat makan baru yang a...</td>\n",
              "      <td>negative</td>\n",
              "    </tr>\n",
              "    <tr>\n",
              "      <th>1</th>\n",
              "      <td>kayak nya sih gue tidak akan mau balik lagi ke...</td>\n",
              "      <td>negative</td>\n",
              "    </tr>\n",
              "    <tr>\n",
              "      <th>2</th>\n",
              "      <td>kalau dipikir pikir   sebenarnya tidak ada yan...</td>\n",
              "      <td>negative</td>\n",
              "    </tr>\n",
              "    <tr>\n",
              "      <th>3</th>\n",
              "      <td>ini pertama kalinya gua ke bank buat ngurusin ...</td>\n",
              "      <td>negative</td>\n",
              "    </tr>\n",
              "    <tr>\n",
              "      <th>4</th>\n",
              "      <td>waktu sampai dengan gue pernah disuruh ibu lat...</td>\n",
              "      <td>negative</td>\n",
              "    </tr>\n",
              "    <tr>\n",
              "      <th>5</th>\n",
              "      <td>pelayanan di hotel salak bogor tidak sebagus y...</td>\n",
              "      <td>negative</td>\n",
              "    </tr>\n",
              "    <tr>\n",
              "      <th>6</th>\n",
              "      <td>ada apa dengan young lex   kenapa dia harus me...</td>\n",
              "      <td>negative</td>\n",
              "    </tr>\n",
              "    <tr>\n",
              "      <th>7</th>\n",
              "      <td>gue pesimis sama manusia   terutama dalam ngur...</td>\n",
              "      <td>negative</td>\n",
              "    </tr>\n",
              "    <tr>\n",
              "      <th>8</th>\n",
              "      <td>saya kecewa karena pengeditan biodata penumpan...</td>\n",
              "      <td>negative</td>\n",
              "    </tr>\n",
              "    <tr>\n",
              "      <th>9</th>\n",
              "      <td>saya hari ini melakukan pemesanan dan tiket sa...</td>\n",
              "      <td>negative</td>\n",
              "    </tr>\n",
              "  </tbody>\n",
              "</table>\n",
              "</div>\n",
              "    <div class=\"colab-df-buttons\">\n",
              "\n",
              "  <div class=\"colab-df-container\">\n",
              "    <button class=\"colab-df-convert\" onclick=\"convertToInteractive('df-aba5e390-1906-4670-9d6b-ab75cf5df42f')\"\n",
              "            title=\"Convert this dataframe to an interactive table.\"\n",
              "            style=\"display:none;\">\n",
              "\n",
              "  <svg xmlns=\"http://www.w3.org/2000/svg\" height=\"24px\" viewBox=\"0 -960 960 960\">\n",
              "    <path d=\"M120-120v-720h720v720H120Zm60-500h600v-160H180v160Zm220 220h160v-160H400v160Zm0 220h160v-160H400v160ZM180-400h160v-160H180v160Zm440 0h160v-160H620v160ZM180-180h160v-160H180v160Zm440 0h160v-160H620v160Z\"/>\n",
              "  </svg>\n",
              "    </button>\n",
              "\n",
              "  <style>\n",
              "    .colab-df-container {\n",
              "      display:flex;\n",
              "      gap: 12px;\n",
              "    }\n",
              "\n",
              "    .colab-df-convert {\n",
              "      background-color: #E8F0FE;\n",
              "      border: none;\n",
              "      border-radius: 50%;\n",
              "      cursor: pointer;\n",
              "      display: none;\n",
              "      fill: #1967D2;\n",
              "      height: 32px;\n",
              "      padding: 0 0 0 0;\n",
              "      width: 32px;\n",
              "    }\n",
              "\n",
              "    .colab-df-convert:hover {\n",
              "      background-color: #E2EBFA;\n",
              "      box-shadow: 0px 1px 2px rgba(60, 64, 67, 0.3), 0px 1px 3px 1px rgba(60, 64, 67, 0.15);\n",
              "      fill: #174EA6;\n",
              "    }\n",
              "\n",
              "    .colab-df-buttons div {\n",
              "      margin-bottom: 4px;\n",
              "    }\n",
              "\n",
              "    [theme=dark] .colab-df-convert {\n",
              "      background-color: #3B4455;\n",
              "      fill: #D2E3FC;\n",
              "    }\n",
              "\n",
              "    [theme=dark] .colab-df-convert:hover {\n",
              "      background-color: #434B5C;\n",
              "      box-shadow: 0px 1px 3px 1px rgba(0, 0, 0, 0.15);\n",
              "      filter: drop-shadow(0px 1px 2px rgba(0, 0, 0, 0.3));\n",
              "      fill: #FFFFFF;\n",
              "    }\n",
              "  </style>\n",
              "\n",
              "    <script>\n",
              "      const buttonEl =\n",
              "        document.querySelector('#df-aba5e390-1906-4670-9d6b-ab75cf5df42f button.colab-df-convert');\n",
              "      buttonEl.style.display =\n",
              "        google.colab.kernel.accessAllowed ? 'block' : 'none';\n",
              "\n",
              "      async function convertToInteractive(key) {\n",
              "        const element = document.querySelector('#df-aba5e390-1906-4670-9d6b-ab75cf5df42f');\n",
              "        const dataTable =\n",
              "          await google.colab.kernel.invokeFunction('convertToInteractive',\n",
              "                                                    [key], {});\n",
              "        if (!dataTable) return;\n",
              "\n",
              "        const docLinkHtml = 'Like what you see? Visit the ' +\n",
              "          '<a target=\"_blank\" href=https://colab.research.google.com/notebooks/data_table.ipynb>data table notebook</a>'\n",
              "          + ' to learn more about interactive tables.';\n",
              "        element.innerHTML = '';\n",
              "        dataTable['output_type'] = 'display_data';\n",
              "        await google.colab.output.renderOutput(dataTable, element);\n",
              "        const docLink = document.createElement('div');\n",
              "        docLink.innerHTML = docLinkHtml;\n",
              "        element.appendChild(docLink);\n",
              "      }\n",
              "    </script>\n",
              "  </div>\n",
              "\n",
              "\n",
              "<div id=\"df-71cc183d-2890-4675-9b05-784948f59e03\">\n",
              "  <button class=\"colab-df-quickchart\" onclick=\"quickchart('df-71cc183d-2890-4675-9b05-784948f59e03')\"\n",
              "            title=\"Suggest charts\"\n",
              "            style=\"display:none;\">\n",
              "\n",
              "<svg xmlns=\"http://www.w3.org/2000/svg\" height=\"24px\"viewBox=\"0 0 24 24\"\n",
              "     width=\"24px\">\n",
              "    <g>\n",
              "        <path d=\"M19 3H5c-1.1 0-2 .9-2 2v14c0 1.1.9 2 2 2h14c1.1 0 2-.9 2-2V5c0-1.1-.9-2-2-2zM9 17H7v-7h2v7zm4 0h-2V7h2v10zm4 0h-2v-4h2v4z\"/>\n",
              "    </g>\n",
              "</svg>\n",
              "  </button>\n",
              "\n",
              "<style>\n",
              "  .colab-df-quickchart {\n",
              "      --bg-color: #E8F0FE;\n",
              "      --fill-color: #1967D2;\n",
              "      --hover-bg-color: #E2EBFA;\n",
              "      --hover-fill-color: #174EA6;\n",
              "      --disabled-fill-color: #AAA;\n",
              "      --disabled-bg-color: #DDD;\n",
              "  }\n",
              "\n",
              "  [theme=dark] .colab-df-quickchart {\n",
              "      --bg-color: #3B4455;\n",
              "      --fill-color: #D2E3FC;\n",
              "      --hover-bg-color: #434B5C;\n",
              "      --hover-fill-color: #FFFFFF;\n",
              "      --disabled-bg-color: #3B4455;\n",
              "      --disabled-fill-color: #666;\n",
              "  }\n",
              "\n",
              "  .colab-df-quickchart {\n",
              "    background-color: var(--bg-color);\n",
              "    border: none;\n",
              "    border-radius: 50%;\n",
              "    cursor: pointer;\n",
              "    display: none;\n",
              "    fill: var(--fill-color);\n",
              "    height: 32px;\n",
              "    padding: 0;\n",
              "    width: 32px;\n",
              "  }\n",
              "\n",
              "  .colab-df-quickchart:hover {\n",
              "    background-color: var(--hover-bg-color);\n",
              "    box-shadow: 0 1px 2px rgba(60, 64, 67, 0.3), 0 1px 3px 1px rgba(60, 64, 67, 0.15);\n",
              "    fill: var(--button-hover-fill-color);\n",
              "  }\n",
              "\n",
              "  .colab-df-quickchart-complete:disabled,\n",
              "  .colab-df-quickchart-complete:disabled:hover {\n",
              "    background-color: var(--disabled-bg-color);\n",
              "    fill: var(--disabled-fill-color);\n",
              "    box-shadow: none;\n",
              "  }\n",
              "\n",
              "  .colab-df-spinner {\n",
              "    border: 2px solid var(--fill-color);\n",
              "    border-color: transparent;\n",
              "    border-bottom-color: var(--fill-color);\n",
              "    animation:\n",
              "      spin 1s steps(1) infinite;\n",
              "  }\n",
              "\n",
              "  @keyframes spin {\n",
              "    0% {\n",
              "      border-color: transparent;\n",
              "      border-bottom-color: var(--fill-color);\n",
              "      border-left-color: var(--fill-color);\n",
              "    }\n",
              "    20% {\n",
              "      border-color: transparent;\n",
              "      border-left-color: var(--fill-color);\n",
              "      border-top-color: var(--fill-color);\n",
              "    }\n",
              "    30% {\n",
              "      border-color: transparent;\n",
              "      border-left-color: var(--fill-color);\n",
              "      border-top-color: var(--fill-color);\n",
              "      border-right-color: var(--fill-color);\n",
              "    }\n",
              "    40% {\n",
              "      border-color: transparent;\n",
              "      border-right-color: var(--fill-color);\n",
              "      border-top-color: var(--fill-color);\n",
              "    }\n",
              "    60% {\n",
              "      border-color: transparent;\n",
              "      border-right-color: var(--fill-color);\n",
              "    }\n",
              "    80% {\n",
              "      border-color: transparent;\n",
              "      border-right-color: var(--fill-color);\n",
              "      border-bottom-color: var(--fill-color);\n",
              "    }\n",
              "    90% {\n",
              "      border-color: transparent;\n",
              "      border-bottom-color: var(--fill-color);\n",
              "    }\n",
              "  }\n",
              "</style>\n",
              "\n",
              "  <script>\n",
              "    async function quickchart(key) {\n",
              "      const quickchartButtonEl =\n",
              "        document.querySelector('#' + key + ' button');\n",
              "      quickchartButtonEl.disabled = true;  // To prevent multiple clicks.\n",
              "      quickchartButtonEl.classList.add('colab-df-spinner');\n",
              "      try {\n",
              "        const charts = await google.colab.kernel.invokeFunction(\n",
              "            'suggestCharts', [key], {});\n",
              "      } catch (error) {\n",
              "        console.error('Error during call to suggestCharts:', error);\n",
              "      }\n",
              "      quickchartButtonEl.classList.remove('colab-df-spinner');\n",
              "      quickchartButtonEl.classList.add('colab-df-quickchart-complete');\n",
              "    }\n",
              "    (() => {\n",
              "      let quickchartButtonEl =\n",
              "        document.querySelector('#df-71cc183d-2890-4675-9b05-784948f59e03 button');\n",
              "      quickchartButtonEl.style.display =\n",
              "        google.colab.kernel.accessAllowed ? 'block' : 'none';\n",
              "    })();\n",
              "  </script>\n",
              "</div>\n",
              "\n",
              "    </div>\n",
              "  </div>\n"
            ],
            "application/vnd.google.colaboratory.intrinsic+json": {
              "type": "dataframe",
              "variable_name": "df_test_unmasked",
              "summary": "{\n  \"name\": \"df_test_unmasked\",\n  \"rows\": 500,\n  \"fields\": [\n    {\n      \"column\": \"text\",\n      \"properties\": {\n        \"dtype\": \"string\",\n        \"num_unique_values\": 500,\n        \"samples\": [\n          \"kesian sheila on   tenggelem sekarang  \",\n          \"sebagai resmi broadcast   saya merasa kecewa dengan karena selain siaran yang di acak   iklan pop naik yang menutupi layar   juga tidak menayangkan pertandingan lainn nya   bahkan   menjelang asian games masih banyak sinetron reguler daripada tayangan asian games  \",\n          \"dulu pernah mencoba belajar renang   tapi tenggelam   terus sekarang tidak mau lagi deh gue renang   trauma   seram  \"\n        ],\n        \"semantic_type\": \"\",\n        \"description\": \"\"\n      }\n    },\n    {\n      \"column\": \"emotion\",\n      \"properties\": {\n        \"dtype\": \"category\",\n        \"num_unique_values\": 3,\n        \"samples\": [\n          \"negative\",\n          \"positive\",\n          \"neutral\"\n        ],\n        \"semantic_type\": \"\",\n        \"description\": \"\"\n      }\n    }\n  ]\n}"
            }
          },
          "metadata": {},
          "execution_count": 9
        }
      ]
    },
    {
      "cell_type": "markdown",
      "source": [
        "# Exploratory Data Analysis"
      ],
      "metadata": {
        "id": "OOW3iWwGdZg9"
      }
    },
    {
      "cell_type": "code",
      "source": [
        "fig = plt.figure(figsize=(4,3))\n",
        "df_train.groupby('emotion').text.count().plot.bar(ylim=0)\n",
        "plt.title(\"Sentiment Distribution in Training Data\")\n",
        "plt.show()\n",
        "df_train.groupby('emotion').text.count()"
      ],
      "metadata": {
        "colab": {
          "base_uri": "https://localhost:8080/",
          "height": 572
        },
        "id": "XO4oaN8KdfSl",
        "outputId": "e309c7e3-3711-4501-b18d-bc131fa8f255"
      },
      "execution_count": null,
      "outputs": [
        {
          "output_type": "display_data",
          "data": {
            "text/plain": [
              "<Figure size 400x300 with 1 Axes>"
            ],
            "image/png": "[encoded data removed]"
          },
          "metadata": {}
        },
        {
          "output_type": "execute_result",
          "data": {
            "text/plain": [
              "emotion\n",
              "negative    3436\n",
              "neutral     1148\n",
              "positive    6416\n",
              "Name: text, dtype: int64"
            ],
            "text/html": [
              "<div>\n",
              "<style scoped>\n",
              "    .dataframe tbody tr th:only-of-type {\n",
              "        vertical-align: middle;\n",
              "    }\n",
              "\n",
              "    .dataframe tbody tr th {\n",
              "        vertical-align: top;\n",
              "    }\n",
              "\n",
              "    .dataframe thead th {\n",
              "        text-align: right;\n",
              "    }\n",
              "</style>\n",
              "<table border=\"1\" class=\"dataframe\">\n",
              "  <thead>\n",
              "    <tr style=\"text-align: right;\">\n",
              "      <th></th>\n",
              "      <th>text</th>\n",
              "    </tr>\n",
              "    <tr>\n",
              "      <th>emotion</th>\n",
              "      <th></th>\n",
              "    </tr>\n",
              "  </thead>\n",
              "  <tbody>\n",
              "    <tr>\n",
              "      <th>negative</th>\n",
              "      <td>3436</td>\n",
              "    </tr>\n",
              "    <tr>\n",
              "      <th>neutral</th>\n",
              "      <td>1148</td>\n",
              "    </tr>\n",
              "    <tr>\n",
              "      <th>positive</th>\n",
              "      <td>6416</td>\n",
              "    </tr>\n",
              "  </tbody>\n",
              "</table>\n",
              "</div><br><label><b>dtype:</b> int64</label>"
            ]
          },
          "metadata": {},
          "execution_count": 10
        }
      ]
    },
    {
      "cell_type": "code",
      "source": [
        "# Encoding emotions\n",
        "emotion_encoding = {'negative': 0, 'neutral': 1, 'positive': 2}\n",
        "\n",
        "df_train['emotion'] = df_train['emotion'].replace(emotion_encoding)\n",
        "df_valid['emotion'] = df_valid['emotion'].replace(emotion_encoding)\n",
        "df_test_unmasked['emotion'] = df_test_unmasked['emotion'].replace(emotion_encoding)\n",
        "df_test_masked['emotion'] = df_test_masked['emotion'].replace(emotion_encoding)"
      ],
      "metadata": {
        "id": "zRhTL9SpjP0O"
      },
      "execution_count": null,
      "outputs": []
    },
    {
      "cell_type": "markdown",
      "source": [
        "# Experiment 1: Linear Kernel"
      ],
      "metadata": {
        "id": "qTSXM2n96p9u"
      }
    },
    {
      "cell_type": "markdown",
      "source": [
        "## Training"
      ],
      "metadata": {
        "id": "2tDnTJT5zr8c"
      }
    },
    {
      "cell_type": "code",
      "source": [
        "# Create a bag of words from the vocab_uncased.txt\n",
        "cleaned_vocab = [string.strip() for string in vocab_filtered if string.strip()]\n",
        "cleaned_vocab = list(dict.fromkeys(cleaned_vocab))\n",
        "vectorizer = CountVectorizer(vocabulary=cleaned_vocab)\n",
        "\n",
        "# Extract training, validation, and test data into each array and transform using vocabulary\n",
        "X_train = vectorizer.transform(df_train['text'])\n",
        "y_train = df_train['emotion']\n",
        "X_valid = vectorizer.transform(df_valid['text'])\n",
        "y_valid = df_valid['emotion']\n",
        "X_test = vectorizer.transform(df_test_unmasked['text'])\n",
        "y_test = df_test_unmasked['emotion']"
      ],
      "metadata": {
        "id": "hGZOPl84zqn0"
      },
      "execution_count": null,
      "outputs": []
    },
    {
      "cell_type": "code",
      "source": [
        "# Create SVM model with selected experiment kernel and train\n",
        "svm_model = SVC(kernel='linear')\n",
        "svm_model.fit(X_train, y_train)\n",
        "\n",
        "# Do validation\n",
        "y_valid_pred = svm_model.predict(X_valid)"
      ],
      "metadata": {
        "id": "HnLZy05q0TRq"
      },
      "execution_count": null,
      "outputs": []
    },
    {
      "cell_type": "markdown",
      "source": [
        "## Evaluate training model"
      ],
      "metadata": {
        "id": "mSdmnBZg0hjb"
      }
    },
    {
      "cell_type": "code",
      "source": [
        "def class_report_valid(y_valid, y_valid_pred):\n",
        "  # Evaluate using metrics\n",
        "  accuracy = accuracy_score(y_valid, y_valid_pred)\n",
        "  precision = precision_score(y_valid, y_valid_pred, average='macro')\n",
        "  recall = recall_score(y_valid, y_valid_pred, average='macro')\n",
        "  f1 = f1_score(y_valid, y_valid_pred, average='macro')\n",
        "\n",
        "  print(f'Accuracy: {accuracy}')\n",
        "  print(f'Precision: {precision}')\n",
        "  print(f'Recall: {recall}')\n",
        "  print(f'F1-Score: {f1}')\n",
        "\n",
        "  # Print classification report\n",
        "  print(classification_report(y_valid, y_valid_pred, target_names=['negative', 'neutral', 'positive']))\n",
        "\n",
        "def class_report_test(y_test, y_test_pred):\n",
        "  accuracy_test = accuracy_score(y_test, y_test_pred)\n",
        "  precision_test = precision_score(y_test, y_test_pred, average='macro')\n",
        "  recall_test = recall_score(y_test, y_test_pred, average='macro')\n",
        "  f1_test = f1_score(y_test, y_test_pred, average='macro')\n",
        "\n",
        "  print(f'Test Accuracy: {accuracy_test}')\n",
        "  print(f'Test Precision: {precision_test}')\n",
        "  print(f'Test Recall: {recall_test}')\n",
        "  print(f'Test F1-Score: {f1_test}')"
      ],
      "metadata": {
        "id": "Pxod2Y8q7fEc"
      },
      "execution_count": null,
      "outputs": []
    },
    {
      "cell_type": "code",
      "source": [
        "# Evaluate on validation set\n",
        "class_report_valid(y_valid, y_valid_pred)"
      ],
      "metadata": {
        "colab": {
          "base_uri": "https://localhost:8080/"
        },
        "id": "IKY5D5az0ZYy",
        "outputId": "643154b7-a897-45de-da5c-1069609ef1da"
      },
      "execution_count": null,
      "outputs": [
        {
          "output_type": "stream",
          "name": "stdout",
          "text": [
            "Accuracy: 0.8547619047619047\n",
            "Precision: 0.8200061074650158\n",
            "Recall: 0.8075962005421897\n",
            "F1-Score: 0.8119874107987775\n",
            "              precision    recall  f1-score   support\n",
            "\n",
            "    negative       0.77      0.86      0.81       394\n",
            "     neutral       0.77      0.68      0.72       131\n",
            "    positive       0.92      0.88      0.90       735\n",
            "\n",
            "    accuracy                           0.85      1260\n",
            "   macro avg       0.82      0.81      0.81      1260\n",
            "weighted avg       0.86      0.85      0.86      1260\n",
            "\n"
          ]
        }
      ]
    },
    {
      "cell_type": "code",
      "source": [
        "# Predict x column using SVM model\n",
        "y_test_pred = svm_model.predict(X_test)\n",
        "\n",
        "# Evaluate on test set\n",
        "class_report_test(y_test, y_test_pred)\n",
        "\n",
        "# Error analysis: Print misclassified examples\n",
        "df_test_unmasked['predicted_emotion'] = y_test_pred\n",
        "misclassified = df_test_unmasked[df_test_unmasked['emotion'] != df_test_unmasked['predicted_emotion']]\n",
        "misclassified_count = misclassified[['text', 'emotion', 'predicted_emotion']].shape[0]\n",
        "print(f'Banyak data yang salah diprediksi: {misclassified_count}')"
      ],
      "metadata": {
        "colab": {
          "base_uri": "https://localhost:8080/"
        },
        "id": "KO8FRnw20yHm",
        "outputId": "5836ab9e-8f40-4909-a78f-95e51c03d6ec"
      },
      "execution_count": null,
      "outputs": [
        {
          "output_type": "stream",
          "name": "stdout",
          "text": [
            "Test Accuracy: 0.748\n",
            "Test Precision: 0.7387080856076343\n",
            "Test Recall: 0.6988265002970886\n",
            "Test F1-Score: 0.7102994061493136\n",
            "Banyak data yang salah diprediksi: 126\n"
          ]
        }
      ]
    },
    {
      "cell_type": "code",
      "source": [
        "misclassified_2 = misclassified.copy()\n",
        "\n",
        "emotion_decoding = {0: 'negative', 1: 'neutral', 2: 'positive'}\n",
        "misclassified_2['emotion'] = misclassified_2['emotion'].replace(emotion_decoding)\n",
        "misclassified_2['predicted_emotion'] = misclassified_2['predicted_emotion'].replace(emotion_decoding)\n",
        "\n",
        "fig = plt.figure(figsize=(4,3))\n",
        "misclassified_2.groupby('emotion').text.count().plot.bar(ylim=0)\n",
        "plt.title(\"Misclassified Error Detection Distribution For Linear Kernel\")\n",
        "plt.xlabel('Emotions That Got Predicted Wrong')\n",
        "plt.show()\n",
        "misclassified_2.groupby('emotion').text.count()"
      ],
      "metadata": {
        "colab": {
          "base_uri": "https://localhost:8080/",
          "height": 572
        },
        "id": "ZMI_wNsK4FRk",
        "outputId": "14fdeb06-2d35-4dbd-a615-b4b480ee67a0"
      },
      "execution_count": null,
      "outputs": [
        {
          "output_type": "display_data",
          "data": {
            "text/plain": [
              "<Figure size 400x300 with 1 Axes>"
            ],
            "image/png": "[encoded data removed]"
          },
          "metadata": {}
        },
        {
          "output_type": "execute_result",
          "data": {
            "text/plain": [
              "emotion\n",
              "negative    29\n",
              "neutral     45\n",
              "positive    52\n",
              "Name: text, dtype: int64"
            ],
            "text/html": [
              "<div>\n",
              "<style scoped>\n",
              "    .dataframe tbody tr th:only-of-type {\n",
              "        vertical-align: middle;\n",
              "    }\n",
              "\n",
              "    .dataframe tbody tr th {\n",
              "        vertical-align: top;\n",
              "    }\n",
              "\n",
              "    .dataframe thead th {\n",
              "        text-align: right;\n",
              "    }\n",
              "</style>\n",
              "<table border=\"1\" class=\"dataframe\">\n",
              "  <thead>\n",
              "    <tr style=\"text-align: right;\">\n",
              "      <th></th>\n",
              "      <th>text</th>\n",
              "    </tr>\n",
              "    <tr>\n",
              "      <th>emotion</th>\n",
              "      <th></th>\n",
              "    </tr>\n",
              "  </thead>\n",
              "  <tbody>\n",
              "    <tr>\n",
              "      <th>negative</th>\n",
              "      <td>29</td>\n",
              "    </tr>\n",
              "    <tr>\n",
              "      <th>neutral</th>\n",
              "      <td>45</td>\n",
              "    </tr>\n",
              "    <tr>\n",
              "      <th>positive</th>\n",
              "      <td>52</td>\n",
              "    </tr>\n",
              "  </tbody>\n",
              "</table>\n",
              "</div><br><label><b>dtype:</b> int64</label>"
            ]
          },
          "metadata": {},
          "execution_count": 17
        }
      ]
    },
    {
      "cell_type": "markdown",
      "source": [
        "# Experiment 2: RBF Kernel"
      ],
      "metadata": {
        "id": "iU8PY-8_60q-"
      }
    },
    {
      "cell_type": "markdown",
      "source": [
        "## Training"
      ],
      "metadata": {
        "id": "RdoLdD5x63nH"
      }
    },
    {
      "cell_type": "code",
      "source": [
        "# Create SVM model with selected experiment kernel and train\n",
        "svm_model = SVC(kernel='rbf')\n",
        "svm_model.fit(X_train, y_train)\n",
        "\n",
        "# Do validation\n",
        "y_valid_pred = svm_model.predict(X_valid)"
      ],
      "metadata": {
        "id": "kslv6BFD6yRm"
      },
      "execution_count": null,
      "outputs": []
    },
    {
      "cell_type": "markdown",
      "source": [
        "## Evaluate training model"
      ],
      "metadata": {
        "id": "B-yExkJZ6yRm"
      }
    },
    {
      "cell_type": "code",
      "source": [
        "# Evaluate on validation set\n",
        "class_report_valid(y_valid, y_valid_pred)"
      ],
      "metadata": {
        "colab": {
          "base_uri": "https://localhost:8080/"
        },
        "outputId": "cd6304f9-ef2a-4dee-f3ca-8f24f19f01c7",
        "id": "dJaxCmi06yRm"
      },
      "execution_count": null,
      "outputs": [
        {
          "output_type": "stream",
          "name": "stdout",
          "text": [
            "Accuracy: 0.8626984126984127\n",
            "Precision: 0.8261217792587902\n",
            "Recall: 0.8113463300356115\n",
            "F1-Score: 0.8173553845799736\n",
            "              precision    recall  f1-score   support\n",
            "\n",
            "    negative       0.79      0.86      0.82       394\n",
            "     neutral       0.77      0.68      0.72       131\n",
            "    positive       0.92      0.90      0.91       735\n",
            "\n",
            "    accuracy                           0.86      1260\n",
            "   macro avg       0.83      0.81      0.82      1260\n",
            "weighted avg       0.86      0.86      0.86      1260\n",
            "\n"
          ]
        }
      ]
    },
    {
      "cell_type": "code",
      "source": [
        "# Predict x column using SVM model\n",
        "y_test_pred = svm_model.predict(X_test)\n",
        "\n",
        "# Evaluate on test set\n",
        "class_report_test(y_test, y_test_pred)\n",
        "\n",
        "# Error analysis: Print misclassified examples\n",
        "df_test_unmasked['predicted_emotion'] = y_test_pred\n",
        "misclassified = df_test_unmasked[df_test_unmasked['emotion'] != df_test_unmasked['predicted_emotion']]\n",
        "misclassified_count = misclassified[['text', 'emotion', 'predicted_emotion']].shape[0]\n",
        "print(f'Banyak data yang salah diprediksi: {misclassified_count}')"
      ],
      "metadata": {
        "colab": {
          "base_uri": "https://localhost:8080/"
        },
        "outputId": "f72aa9f2-6d54-46bc-9a8f-b95e310416c7",
        "id": "ZGYP0dlI6yRn"
      },
      "execution_count": null,
      "outputs": [
        {
          "output_type": "stream",
          "name": "stdout",
          "text": [
            "Test Accuracy: 0.716\n",
            "Test Precision: 0.7535806962558554\n",
            "Test Recall: 0.647715846245258\n",
            "Test F1-Score: 0.6575118575118576\n",
            "Banyak data yang salah diprediksi: 142\n"
          ]
        }
      ]
    },
    {
      "cell_type": "code",
      "source": [
        "misclassified_2 = misclassified.copy()\n",
        "\n",
        "emotion_decoding = {0: 'negative', 1: 'neutral', 2: 'positive'}\n",
        "misclassified_2['emotion'] = misclassified_2['emotion'].replace(emotion_decoding)\n",
        "misclassified_2['predicted_emotion'] = misclassified_2['predicted_emotion'].replace(emotion_decoding)\n",
        "\n",
        "fig = plt.figure(figsize=(4,3))\n",
        "misclassified_2.groupby('emotion').text.count().plot.bar(ylim=0)\n",
        "plt.title(\"Misclassified Error Detection Distribution For RBF Kernel\")\n",
        "plt.xlabel('Emotions That Got Predicted Wrong')\n",
        "plt.show()\n",
        "misclassified_2.groupby('emotion').text.count()"
      ],
      "metadata": {
        "colab": {
          "base_uri": "https://localhost:8080/",
          "height": 572
        },
        "outputId": "aa2dde6d-cbdb-454f-aa35-adb2f7696a40",
        "id": "Gx4tOOZo6yRn"
      },
      "execution_count": null,
      "outputs": [
        {
          "output_type": "display_data",
          "data": {
            "text/plain": [
              "<Figure size 400x300 with 1 Axes>"
            ],
            "image/png": "[encoded data removed]"
          },
          "metadata": {}
        },
        {
          "output_type": "execute_result",
          "data": {
            "text/plain": [
              "emotion\n",
              "negative     5\n",
              "neutral     57\n",
              "positive    80\n",
              "Name: text, dtype: int64"
            ],
            "text/html": [
              "<div>\n",
              "<style scoped>\n",
              "    .dataframe tbody tr th:only-of-type {\n",
              "        vertical-align: middle;\n",
              "    }\n",
              "\n",
              "    .dataframe tbody tr th {\n",
              "        vertical-align: top;\n",
              "    }\n",
              "\n",
              "    .dataframe thead th {\n",
              "        text-align: right;\n",
              "    }\n",
              "</style>\n",
              "<table border=\"1\" class=\"dataframe\">\n",
              "  <thead>\n",
              "    <tr style=\"text-align: right;\">\n",
              "      <th></th>\n",
              "      <th>text</th>\n",
              "    </tr>\n",
              "    <tr>\n",
              "      <th>emotion</th>\n",
              "      <th></th>\n",
              "    </tr>\n",
              "  </thead>\n",
              "  <tbody>\n",
              "    <tr>\n",
              "      <th>negative</th>\n",
              "      <td>5</td>\n",
              "    </tr>\n",
              "    <tr>\n",
              "      <th>neutral</th>\n",
              "      <td>57</td>\n",
              "    </tr>\n",
              "    <tr>\n",
              "      <th>positive</th>\n",
              "      <td>80</td>\n",
              "    </tr>\n",
              "  </tbody>\n",
              "</table>\n",
              "</div><br><label><b>dtype:</b> int64</label>"
            ]
          },
          "metadata": {},
          "execution_count": 21
        }
      ]
    },
    {
      "cell_type": "markdown",
      "source": [
        "# Experiment 3: Poly Kernel"
      ],
      "metadata": {
        "id": "fW8fyJKw7F7w"
      }
    },
    {
      "cell_type": "markdown",
      "source": [
        "## Training"
      ],
      "metadata": {
        "id": "PUyd9MnR7F7x"
      }
    },
    {
      "cell_type": "code",
      "source": [
        "# Create SVM model with selected experiment kernel and train\n",
        "svm_model = SVC(kernel='poly')\n",
        "svm_model.fit(X_train, y_train)\n",
        "\n",
        "# Do validation\n",
        "y_valid_pred = svm_model.predict(X_valid)"
      ],
      "metadata": {
        "id": "CU0h792n7F7x"
      },
      "execution_count": null,
      "outputs": []
    },
    {
      "cell_type": "markdown",
      "source": [
        "## Evaluate training model"
      ],
      "metadata": {
        "id": "RiG4Iqon7F7x"
      }
    },
    {
      "cell_type": "code",
      "source": [
        "# Evaluate on validation set\n",
        "class_report_valid(y_valid, y_valid_pred)"
      ],
      "metadata": {
        "colab": {
          "base_uri": "https://localhost:8080/"
        },
        "outputId": "c582ac86-aa09-4441-d802-3dff1eeac6bd",
        "id": "MuB1j0pC7F73"
      },
      "execution_count": null,
      "outputs": [
        {
          "output_type": "stream",
          "name": "stdout",
          "text": [
            "Accuracy: 0.6888888888888889\n",
            "Precision: 0.8137725230453375\n",
            "Recall: 0.5382225568182867\n",
            "F1-Score: 0.48604732658293215\n",
            "              precision    recall  f1-score   support\n",
            "\n",
            "    negative       0.50      0.92      0.65       394\n",
            "     neutral       1.00      0.01      0.02       131\n",
            "    positive       0.94      0.69      0.79       735\n",
            "\n",
            "    accuracy                           0.69      1260\n",
            "   macro avg       0.81      0.54      0.49      1260\n",
            "weighted avg       0.81      0.69      0.67      1260\n",
            "\n"
          ]
        }
      ]
    },
    {
      "cell_type": "code",
      "source": [
        "# Predict x column using SVM model\n",
        "y_test_pred = svm_model.predict(X_test)\n",
        "\n",
        "# Evaluate on test set\n",
        "class_report_test(y_test, y_test_pred)\n",
        "\n",
        "# Error analysis: Print misclassified examples\n",
        "df_test_unmasked['predicted_emotion'] = y_test_pred\n",
        "misclassified = df_test_unmasked[df_test_unmasked['emotion'] != df_test_unmasked['predicted_emotion']]\n",
        "misclassified_count = misclassified[['text', 'emotion', 'predicted_emotion']].shape[0]\n",
        "print(f'Banyak data yang salah diprediksi: {misclassified_count}')"
      ],
      "metadata": {
        "colab": {
          "base_uri": "https://localhost:8080/"
        },
        "outputId": "91920897-4184-42b0-8d2a-c6f86c84b503",
        "id": "Px7YVB9-7F74"
      },
      "execution_count": null,
      "outputs": [
        {
          "output_type": "stream",
          "name": "stdout",
          "text": [
            "Test Accuracy: 0.446\n",
            "Test Precision: 0.40591063279400635\n",
            "Test Recall: 0.3636563599798894\n",
            "Test F1-Score: 0.26222847319893733\n",
            "Banyak data yang salah diprediksi: 277\n"
          ]
        },
        {
          "output_type": "stream",
          "name": "stderr",
          "text": [
            "/usr/local/lib/python3.10/dist-packages/sklearn/metrics/_classification.py:1471: UndefinedMetricWarning: Precision is ill-defined and being set to 0.0 in labels with no predicted samples. Use `zero_division` parameter to control this behavior.\n",
            "  _warn_prf(average, modifier, msg_start, len(result))\n"
          ]
        }
      ]
    },
    {
      "cell_type": "code",
      "source": [
        "misclassified_2 = misclassified.copy()\n",
        "\n",
        "emotion_decoding = {0: 'negative', 1: 'neutral', 2: 'positive'}\n",
        "misclassified_2['emotion'] = misclassified_2['emotion'].replace(emotion_decoding)\n",
        "misclassified_2['predicted_emotion'] = misclassified_2['predicted_emotion'].replace(emotion_decoding)\n",
        "\n",
        "fig = plt.figure(figsize=(4,3))\n",
        "misclassified_2.groupby('emotion').text.count().plot.bar(ylim=0)\n",
        "plt.title(\"Misclassified Error Detection Distribution For Poly Kernel\")\n",
        "plt.xlabel('Emotions That Got Predicted Wrong')\n",
        "plt.show()\n",
        "misclassified_2.groupby('emotion').text.count()"
      ],
      "metadata": {
        "colab": {
          "base_uri": "https://localhost:8080/",
          "height": 572
        },
        "outputId": "89c214b8-c656-44d8-bed0-1b15cd3ab5a5",
        "id": "3kR4xntN7F74"
      },
      "execution_count": null,
      "outputs": [
        {
          "output_type": "display_data",
          "data": {
            "text/plain": [
              "<Figure size 400x300 with 1 Axes>"
            ],
            "image/png": "[encoded data removed]"
          },
          "metadata": {}
        },
        {
          "output_type": "execute_result",
          "data": {
            "text/plain": [
              "emotion\n",
              "negative      4\n",
              "neutral      88\n",
              "positive    185\n",
              "Name: text, dtype: int64"
            ],
            "text/html": [
              "<div>\n",
              "<style scoped>\n",
              "    .dataframe tbody tr th:only-of-type {\n",
              "        vertical-align: middle;\n",
              "    }\n",
              "\n",
              "    .dataframe tbody tr th {\n",
              "        vertical-align: top;\n",
              "    }\n",
              "\n",
              "    .dataframe thead th {\n",
              "        text-align: right;\n",
              "    }\n",
              "</style>\n",
              "<table border=\"1\" class=\"dataframe\">\n",
              "  <thead>\n",
              "    <tr style=\"text-align: right;\">\n",
              "      <th></th>\n",
              "      <th>text</th>\n",
              "    </tr>\n",
              "    <tr>\n",
              "      <th>emotion</th>\n",
              "      <th></th>\n",
              "    </tr>\n",
              "  </thead>\n",
              "  <tbody>\n",
              "    <tr>\n",
              "      <th>negative</th>\n",
              "      <td>4</td>\n",
              "    </tr>\n",
              "    <tr>\n",
              "      <th>neutral</th>\n",
              "      <td>88</td>\n",
              "    </tr>\n",
              "    <tr>\n",
              "      <th>positive</th>\n",
              "      <td>185</td>\n",
              "    </tr>\n",
              "  </tbody>\n",
              "</table>\n",
              "</div><br><label><b>dtype:</b> int64</label>"
            ]
          },
          "metadata": {},
          "execution_count": 25
        }
      ]
    },
    {
      "cell_type": "markdown",
      "source": [
        "# Experiment 4: Hyperparameter tuning"
      ],
      "metadata": {
        "id": "VjoUf9Z4S3AH"
      }
    },
    {
      "cell_type": "code",
      "source": [
        "# Do hyperparameter tuning\n",
        "parameters = {'kernel': ['linear', 'rbf'], 'C': [0.1, 1, 10]}\n",
        "# Use grid search\n",
        "grid_search = GridSearchCV(SVC(), parameters, scoring='f1_macro')\n",
        "grid_search.fit(X_train, y_train)\n",
        "\n",
        "print(f'Best Parameters: {grid_search.best_params_}')"
      ],
      "metadata": {
        "colab": {
          "base_uri": "https://localhost:8080/"
        },
        "id": "UTKNFhvqQjnP",
        "outputId": "f4b0a287-1de0-45a6-ec9d-4540baa999dc"
      },
      "execution_count": null,
      "outputs": [
        {
          "output_type": "stream",
          "name": "stdout",
          "text": [
            "Best Parameters: {'C': 0.1, 'kernel': 'linear'}\n"
          ]
        }
      ]
    },
    {
      "cell_type": "markdown",
      "source": [
        "## Training"
      ],
      "metadata": {
        "id": "su1TJW-yS6n4"
      }
    },
    {
      "cell_type": "code",
      "source": [
        "# Create SVM model with selected experiment kernel and train\n",
        "svm_model = SVC(kernel='linear', C=0.1)\n",
        "svm_model.fit(X_train, y_train)\n",
        "\n",
        "# Do validation\n",
        "y_valid_pred = svm_model.predict(X_valid)"
      ],
      "metadata": {
        "id": "YERsAULXS6n5"
      },
      "execution_count": null,
      "outputs": []
    },
    {
      "cell_type": "markdown",
      "source": [
        "## Evaluate training model"
      ],
      "metadata": {
        "id": "HyWK-DrnS6n5"
      }
    },
    {
      "cell_type": "code",
      "source": [
        "def class_report_valid(y_valid, y_valid_pred):\n",
        "  # Evaluate using metrics\n",
        "  accuracy = accuracy_score(y_valid, y_valid_pred)\n",
        "  precision = precision_score(y_valid, y_valid_pred, average='macro')\n",
        "  recall = recall_score(y_valid, y_valid_pred, average='macro')\n",
        "  f1 = f1_score(y_valid, y_valid_pred, average='macro')\n",
        "\n",
        "  print(f'Accuracy: {accuracy}')\n",
        "  print(f'Precision: {precision}')\n",
        "  print(f'Recall: {recall}')\n",
        "  print(f'F1-Score: {f1}')\n",
        "\n",
        "  # Print classification report\n",
        "  print(classification_report(y_valid, y_valid_pred, target_names=['negative', 'neutral', 'positive']))\n",
        "\n",
        "def class_report_test(y_test, y_test_pred):\n",
        "  accuracy_test = accuracy_score(y_test, y_test_pred)\n",
        "  precision_test = precision_score(y_test, y_test_pred, average='macro')\n",
        "  recall_test = recall_score(y_test, y_test_pred, average='macro')\n",
        "  f1_test = f1_score(y_test, y_test_pred, average='macro')\n",
        "\n",
        "  print(f'Test Accuracy: {accuracy_test}')\n",
        "  print(f'Test Precision: {precision_test}')\n",
        "  print(f'Test Recall: {recall_test}')\n",
        "  print(f'Test F1-Score: {f1_test}')"
      ],
      "metadata": {
        "id": "YCdV7dCXS6n5"
      },
      "execution_count": null,
      "outputs": []
    },
    {
      "cell_type": "code",
      "source": [
        "# Evaluate on validation set\n",
        "class_report_valid(y_valid, y_valid_pred)"
      ],
      "metadata": {
        "colab": {
          "base_uri": "https://localhost:8080/"
        },
        "outputId": "514f39fb-289d-4ce7-d65b-5da28d0bc070",
        "id": "r1CE7qjhS6n5"
      },
      "execution_count": null,
      "outputs": [
        {
          "output_type": "stream",
          "name": "stdout",
          "text": [
            "Accuracy: 0.8722222222222222\n",
            "Precision: 0.8372207413654905\n",
            "Recall: 0.8424087595281456\n",
            "F1-Score: 0.8385912160620334\n",
            "              precision    recall  f1-score   support\n",
            "\n",
            "    negative       0.79      0.89      0.84       394\n",
            "     neutral       0.78      0.76      0.77       131\n",
            "    positive       0.94      0.89      0.91       735\n",
            "\n",
            "    accuracy                           0.87      1260\n",
            "   macro avg       0.84      0.84      0.84      1260\n",
            "weighted avg       0.88      0.87      0.87      1260\n",
            "\n"
          ]
        }
      ]
    },
    {
      "cell_type": "code",
      "source": [
        "# Predict x column using SVM model\n",
        "y_test_pred = svm_model.predict(X_test)\n",
        "\n",
        "# Evaluate on test set\n",
        "class_report_test(y_test, y_test_pred)\n",
        "\n",
        "# Error analysis: Print misclassified examples\n",
        "df_test_unmasked['predicted_emotion'] = y_test_pred\n",
        "misclassified = df_test_unmasked[df_test_unmasked['emotion'] != df_test_unmasked['predicted_emotion']]\n",
        "misclassified_count = misclassified[['text', 'emotion', 'predicted_emotion']].shape[0]\n",
        "print(f'Banyak data yang salah diprediksi: {misclassified_count}')"
      ],
      "metadata": {
        "colab": {
          "base_uri": "https://localhost:8080/"
        },
        "outputId": "8789a8f9-f0fa-4f90-a9e3-20603007e934",
        "id": "YGzTvhdHS6n6"
      },
      "execution_count": null,
      "outputs": [
        {
          "output_type": "stream",
          "name": "stdout",
          "text": [
            "Test Accuracy: 0.766\n",
            "Test Precision: 0.7839388081310202\n",
            "Test Recall: 0.7051681978152566\n",
            "Test F1-Score: 0.7193318171024644\n",
            "Banyak data yang salah diprediksi: 117\n"
          ]
        }
      ]
    },
    {
      "cell_type": "code",
      "source": [
        "misclassified_2 = misclassified.copy()\n",
        "\n",
        "emotion_decoding = {0: 'negative', 1: 'neutral', 2: 'positive'}\n",
        "misclassified_2['emotion'] = misclassified_2['emotion'].replace(emotion_decoding)\n",
        "misclassified_2['predicted_emotion'] = misclassified_2['predicted_emotion'].replace(emotion_decoding)\n",
        "\n",
        "fig = plt.figure(figsize=(4,3))\n",
        "misclassified_2.groupby('emotion').text.count().plot.bar(ylim=0)\n",
        "plt.title(\"Misclassified Error Detection Distribution For Linear Kernel\")\n",
        "plt.xlabel('Emotions That Got Predicted Wrong')\n",
        "plt.show()\n",
        "misclassified_2.groupby('emotion').text.count()"
      ],
      "metadata": {
        "colab": {
          "base_uri": "https://localhost:8080/",
          "height": 572
        },
        "outputId": "2a94ef82-3258-41e6-fffb-b021d366d2d2",
        "id": "hjCeq1C7S6n6"
      },
      "execution_count": null,
      "outputs": [
        {
          "output_type": "display_data",
          "data": {
            "text/plain": [
              "<Figure size 400x300 with 1 Axes>"
            ],
            "image/png": "[encoded data removed]"
          },
          "metadata": {}
        },
        {
          "output_type": "execute_result",
          "data": {
            "text/plain": [
              "emotion\n",
              "negative     8\n",
              "neutral     49\n",
              "positive    60\n",
              "Name: text, dtype: int64"
            ],
            "text/html": [
              "<div>\n",
              "<style scoped>\n",
              "    .dataframe tbody tr th:only-of-type {\n",
              "        vertical-align: middle;\n",
              "    }\n",
              "\n",
              "    .dataframe tbody tr th {\n",
              "        vertical-align: top;\n",
              "    }\n",
              "\n",
              "    .dataframe thead th {\n",
              "        text-align: right;\n",
              "    }\n",
              "</style>\n",
              "<table border=\"1\" class=\"dataframe\">\n",
              "  <thead>\n",
              "    <tr style=\"text-align: right;\">\n",
              "      <th></th>\n",
              "      <th>text</th>\n",
              "    </tr>\n",
              "    <tr>\n",
              "      <th>emotion</th>\n",
              "      <th></th>\n",
              "    </tr>\n",
              "  </thead>\n",
              "  <tbody>\n",
              "    <tr>\n",
              "      <th>negative</th>\n",
              "      <td>8</td>\n",
              "    </tr>\n",
              "    <tr>\n",
              "      <th>neutral</th>\n",
              "      <td>49</td>\n",
              "    </tr>\n",
              "    <tr>\n",
              "      <th>positive</th>\n",
              "      <td>60</td>\n",
              "    </tr>\n",
              "  </tbody>\n",
              "</table>\n",
              "</div><br><label><b>dtype:</b> int64</label>"
            ]
          },
          "metadata": {},
          "execution_count": 31
        }
      ]
    }
  ]
}